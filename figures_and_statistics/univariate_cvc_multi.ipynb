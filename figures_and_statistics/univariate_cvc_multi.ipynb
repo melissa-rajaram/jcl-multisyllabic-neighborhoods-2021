{
 "cells": [
  {
   "cell_type": "markdown",
   "metadata": {},
   "source": [
    "# Appendix D: univariate statistics"
   ]
  },
  {
   "cell_type": "markdown",
   "metadata": {},
   "source": [
    "Contains the univariate analysis for the CVC and multisyllabic words in Appendix D."
   ]
  },
  {
   "cell_type": "code",
   "execution_count": 3,
   "metadata": {},
   "outputs": [
    {
     "name": "stdout",
     "output_type": "stream",
     "text": [
      "/home/melissa/Dropbox/experiments/python\n"
     ]
    }
   ],
   "source": [
    "%reload_ext autoreload\n",
    "%autoreload 2\n",
    "%matplotlib inline\n",
    "current_dir = %pwd\n",
    "if not current_dir == '/home/melissa/Dropbox/experiments/python/':\n",
    "    %cd '/home/melissa/Dropbox/experiments/python/'"
   ]
  },
  {
   "cell_type": "code",
   "execution_count": 4,
   "metadata": {},
   "outputs": [],
   "source": [
    "from pathlib import Path\n",
    "import pandas as pd\n",
    "import numpy as np\n",
    "import matplotlib.pyplot as plt\n",
    "\n",
    "import statsmodels.api as sm"
   ]
  },
  {
   "cell_type": "code",
   "execution_count": 16,
   "metadata": {},
   "outputs": [],
   "source": [
    "data = Path.cwd()/'current_projects/jcl_multisyllabic_neighborhoods_2021/data/combined/'\n",
    "outdir = Path.cwd()/'current_projects/jcl_multisyllabic_neighborhoods_2021/data/table_data/'"
   ]
  },
  {
   "cell_type": "code",
   "execution_count": 6,
   "metadata": {},
   "outputs": [],
   "source": [
    "data3 = pd.read_pickle(data/'data3.pickle')\n",
    "data4 = pd.read_pickle(data/'data4.pickle')\n",
    "data6 = pd.read_pickle(data/'data6.pickle')"
   ]
  },
  {
   "cell_type": "code",
   "execution_count": 7,
   "metadata": {},
   "outputs": [],
   "source": [
    "convert = {'PACT':'float64','Pct Child':'float64','Pct Adult':'float64',\n",
    "           'len_syllables':'int32','ND':'int32', 'SOND':'int32'}\n",
    "data3 = data3.astype(convert)\n",
    "data4 = data4.astype(convert)\n",
    "data6 = data6.astype(convert)"
   ]
  },
  {
   "cell_type": "code",
   "execution_count": 8,
   "metadata": {},
   "outputs": [],
   "source": [
    "c3 = data3['iscvc']\n",
    "c4 = data4['iscvc']\n",
    "c6 = data6['iscvc']"
   ]
  },
  {
   "cell_type": "code",
   "execution_count": 9,
   "metadata": {},
   "outputs": [],
   "source": [
    "m3 = data3['ismulti']\n",
    "m4 = data4['ismulti']\n",
    "m6 = data6['ismulti']"
   ]
  },
  {
   "cell_type": "code",
   "execution_count": 10,
   "metadata": {},
   "outputs": [
    {
     "data": {
      "text/plain": [
       "(Index(['PACT', 'Pct Child', 'Pct Adult', 'syllables', 'len_syllables',\n",
       "        'len_phonemes', 'stress_syl_pos', 'orthographic', 'ND', 'SOND', 'PLD20',\n",
       "        'PFEAT20', 'iscvc', 'ismulti'],\n",
       "       dtype='object'),\n",
       " 386,\n",
       " 644)"
      ]
     },
     "execution_count": 10,
     "metadata": {},
     "output_type": "execute_result"
    }
   ],
   "source": [
    "data3.columns,data3.iscvc.sum(),data3.ismulti.sum()"
   ]
  },
  {
   "cell_type": "markdown",
   "metadata": {},
   "source": [
    "## Bootstrapping and Serializing"
   ]
  },
  {
   "cell_type": "code",
   "execution_count": 11,
   "metadata": {},
   "outputs": [],
   "source": [
    "bootstrap_num = 1000\n",
    "alpha = 0.95"
   ]
  },
  {
   "cell_type": "markdown",
   "metadata": {},
   "source": [
    "Note that the following function works for both simple and multiple regression. Currently, I am doing a series of simple regression for the analyses."
   ]
  },
  {
   "cell_type": "code",
   "execution_count": 12,
   "metadata": {},
   "outputs": [],
   "source": [
    "def ols_and_boot(child, independent, dependent):\n",
    "    \n",
    "    def find_CI(dist):\n",
    "        ordered = np.sort(dist)\n",
    "        p_low = ((1.0 - alpha) / 2.0) * 100\n",
    "        lower = max(0.0, np.percentile(ordered, p_low))\n",
    "        p_up = (alpha + ((1.0 - alpha) / 2.0)) * 100\n",
    "        upper = min(1.0, np.percentile(ordered, p_up))\n",
    "        return [lower, upper]\n",
    "    \n",
    "    # independent variables\n",
    "    rsquareds = list()\n",
    "    original = sm.OLS(child[dependent], sm.add_constant(child[independent])).fit()\n",
    "    for count in range(0,bootstrap_num):\n",
    "        random = child.sample(n=len(child),replace=True)\n",
    "        random_regr = sm.OLS(random[dependent], sm.add_constant(random[independent])).fit()\n",
    "        rsquareds.append(random_regr.rsquared)\n",
    "    rci = find_CI(rsquareds)\n",
    "    # observations, df numerator, df denominator, fvalue, pvalue, condition number, \n",
    "    # r2, lower r2 CI, upper r2 CI\n",
    "    return original.nobs, original.df_model, original.df_resid, original.fvalue, \\\n",
    "            original.f_pvalue, original.rsquared, rci[0], rci[1]"
   ]
  },
  {
   "cell_type": "code",
   "execution_count": 13,
   "metadata": {},
   "outputs": [],
   "source": [
    "df = pd.DataFrame(index=['observations', 'df numerator', 'df denominator', 'fvalue', \n",
    "                         'pvalue', 'r2', 'lower r2 CI', 'upper r2 CI'])"
   ]
  },
  {
   "cell_type": "markdown",
   "metadata": {},
   "source": [
    "'PACT', 'Pct Child', 'Pct Adult', 'syllables', 'len_syllables',\n",
    "        'len_phonemes', 'stress_syl_pos', 'orthographic', 'ND', 'SOND', 'PLD20',\n",
    "        'PFEAT20', 'iscvc', 'ismulti']"
   ]
  },
  {
   "cell_type": "code",
   "execution_count": 14,
   "metadata": {},
   "outputs": [],
   "source": [
    "# CVC\n",
    "df = df.assign(cvc_3_ND=ols_and_boot(data3[data3.iscvc],'ND','PACT'))\n",
    "df = df.assign(cvc_4_ND=ols_and_boot(data4[data4.iscvc],'ND','PACT'))\n",
    "df = df.assign(cvc_6_ND=ols_and_boot(data6[data6.iscvc],'ND','PACT'))\n",
    "\n",
    "# multisyllabic age 3\n",
    "df = df.assign(multi_3_PFEAT20=ols_and_boot(data3[data3.ismulti],'PFEAT20','PACT'))\n",
    "df = df.assign(multi_3_PLD20=ols_and_boot(data3[data3.ismulti],'PLD20','PACT'))\n",
    "df = df.assign(multi_3_SOND=ols_and_boot(data3[data3.ismulti],'SOND','PACT'))\n",
    "\n",
    "# multisyllabic age 4\n",
    "df = df.assign(multi_4_PFEAT20=ols_and_boot(data4[data4.ismulti],'PFEAT20','PACT'))\n",
    "df = df.assign(multi_4_PLD20=ols_and_boot(data4[data4.ismulti],'PLD20','PACT'))\n",
    "df = df.assign(multi_4_SOND=ols_and_boot(data4[data4.ismulti],'SOND','PACT'))\n",
    "\n",
    "# multisyllabic age 6\n",
    "df = df.assign(multi_6_PFEAT20=ols_and_boot(data6[data6.ismulti],'PFEAT20','PACT'))\n",
    "df = df.assign(multi_6_PLD20=ols_and_boot(data6[data6.ismulti],'PLD20','PACT'))\n",
    "df = df.assign(multi_6_SOND=ols_and_boot(data6[data6.ismulti],'SOND','PACT'))\n",
    "\n"
   ]
  },
  {
   "cell_type": "code",
   "execution_count": 18,
   "metadata": {},
   "outputs": [],
   "source": [
    "df = df.T"
   ]
  },
  {
   "cell_type": "code",
   "execution_count": 19,
   "metadata": {},
   "outputs": [],
   "source": [
    "df.to_csv(outdir/'inferential.csv')"
   ]
  },
  {
   "cell_type": "code",
   "execution_count": 20,
   "metadata": {},
   "outputs": [
    {
     "data": {
      "text/html": [
       "<div>\n",
       "<style scoped>\n",
       "    .dataframe tbody tr th:only-of-type {\n",
       "        vertical-align: middle;\n",
       "    }\n",
       "\n",
       "    .dataframe tbody tr th {\n",
       "        vertical-align: top;\n",
       "    }\n",
       "\n",
       "    .dataframe thead th {\n",
       "        text-align: right;\n",
       "    }\n",
       "</style>\n",
       "<table border=\"1\" class=\"dataframe\">\n",
       "  <thead>\n",
       "    <tr style=\"text-align: right;\">\n",
       "      <th></th>\n",
       "      <th>observations</th>\n",
       "      <th>df numerator</th>\n",
       "      <th>df denominator</th>\n",
       "      <th>fvalue</th>\n",
       "      <th>pvalue</th>\n",
       "      <th>r2</th>\n",
       "      <th>lower r2 CI</th>\n",
       "      <th>upper r2 CI</th>\n",
       "    </tr>\n",
       "  </thead>\n",
       "  <tbody>\n",
       "    <tr>\n",
       "      <th>cvc_3_ND</th>\n",
       "      <td>386.0</td>\n",
       "      <td>1.0</td>\n",
       "      <td>384.0</td>\n",
       "      <td>8.290264</td>\n",
       "      <td>0.004209</td>\n",
       "      <td>0.021133</td>\n",
       "      <td>0.001081</td>\n",
       "      <td>0.066036</td>\n",
       "    </tr>\n",
       "    <tr>\n",
       "      <th>cvc_4_ND</th>\n",
       "      <td>393.0</td>\n",
       "      <td>1.0</td>\n",
       "      <td>391.0</td>\n",
       "      <td>5.925372</td>\n",
       "      <td>0.015371</td>\n",
       "      <td>0.014928</td>\n",
       "      <td>0.000474</td>\n",
       "      <td>0.049859</td>\n",
       "    </tr>\n",
       "    <tr>\n",
       "      <th>cvc_6_ND</th>\n",
       "      <td>483.0</td>\n",
       "      <td>1.0</td>\n",
       "      <td>481.0</td>\n",
       "      <td>6.104190</td>\n",
       "      <td>0.013832</td>\n",
       "      <td>0.012532</td>\n",
       "      <td>0.000448</td>\n",
       "      <td>0.038484</td>\n",
       "    </tr>\n",
       "    <tr>\n",
       "      <th>multi_3_PFEAT20</th>\n",
       "      <td>644.0</td>\n",
       "      <td>1.0</td>\n",
       "      <td>642.0</td>\n",
       "      <td>5.134484</td>\n",
       "      <td>0.023787</td>\n",
       "      <td>0.007934</td>\n",
       "      <td>0.000214</td>\n",
       "      <td>0.025578</td>\n",
       "    </tr>\n",
       "    <tr>\n",
       "      <th>multi_3_PLD20</th>\n",
       "      <td>644.0</td>\n",
       "      <td>1.0</td>\n",
       "      <td>642.0</td>\n",
       "      <td>2.986293</td>\n",
       "      <td>0.084453</td>\n",
       "      <td>0.004630</td>\n",
       "      <td>0.000023</td>\n",
       "      <td>0.020803</td>\n",
       "    </tr>\n",
       "    <tr>\n",
       "      <th>multi_3_SOND</th>\n",
       "      <td>644.0</td>\n",
       "      <td>1.0</td>\n",
       "      <td>642.0</td>\n",
       "      <td>0.257646</td>\n",
       "      <td>0.611916</td>\n",
       "      <td>0.000401</td>\n",
       "      <td>0.000001</td>\n",
       "      <td>0.009699</td>\n",
       "    </tr>\n",
       "    <tr>\n",
       "      <th>multi_4_PFEAT20</th>\n",
       "      <td>717.0</td>\n",
       "      <td>1.0</td>\n",
       "      <td>715.0</td>\n",
       "      <td>0.557241</td>\n",
       "      <td>0.455619</td>\n",
       "      <td>0.000779</td>\n",
       "      <td>0.000002</td>\n",
       "      <td>0.009406</td>\n",
       "    </tr>\n",
       "    <tr>\n",
       "      <th>multi_4_PLD20</th>\n",
       "      <td>717.0</td>\n",
       "      <td>1.0</td>\n",
       "      <td>715.0</td>\n",
       "      <td>1.419805</td>\n",
       "      <td>0.233831</td>\n",
       "      <td>0.001982</td>\n",
       "      <td>0.000006</td>\n",
       "      <td>0.014715</td>\n",
       "    </tr>\n",
       "    <tr>\n",
       "      <th>multi_4_SOND</th>\n",
       "      <td>717.0</td>\n",
       "      <td>1.0</td>\n",
       "      <td>715.0</td>\n",
       "      <td>0.218374</td>\n",
       "      <td>0.640424</td>\n",
       "      <td>0.000305</td>\n",
       "      <td>0.000002</td>\n",
       "      <td>0.007631</td>\n",
       "    </tr>\n",
       "    <tr>\n",
       "      <th>multi_6_PFEAT20</th>\n",
       "      <td>983.0</td>\n",
       "      <td>1.0</td>\n",
       "      <td>981.0</td>\n",
       "      <td>5.558187</td>\n",
       "      <td>0.018590</td>\n",
       "      <td>0.005634</td>\n",
       "      <td>0.000231</td>\n",
       "      <td>0.019467</td>\n",
       "    </tr>\n",
       "    <tr>\n",
       "      <th>multi_6_PLD20</th>\n",
       "      <td>983.0</td>\n",
       "      <td>1.0</td>\n",
       "      <td>981.0</td>\n",
       "      <td>9.941384</td>\n",
       "      <td>0.001665</td>\n",
       "      <td>0.010032</td>\n",
       "      <td>0.002018</td>\n",
       "      <td>0.026083</td>\n",
       "    </tr>\n",
       "    <tr>\n",
       "      <th>multi_6_SOND</th>\n",
       "      <td>983.0</td>\n",
       "      <td>1.0</td>\n",
       "      <td>981.0</td>\n",
       "      <td>0.142526</td>\n",
       "      <td>0.705864</td>\n",
       "      <td>0.000145</td>\n",
       "      <td>0.000001</td>\n",
       "      <td>0.005036</td>\n",
       "    </tr>\n",
       "  </tbody>\n",
       "</table>\n",
       "</div>"
      ],
      "text/plain": [
       "                 observations  df numerator  df denominator    fvalue  \\\n",
       "cvc_3_ND                386.0           1.0           384.0  8.290264   \n",
       "cvc_4_ND                393.0           1.0           391.0  5.925372   \n",
       "cvc_6_ND                483.0           1.0           481.0  6.104190   \n",
       "multi_3_PFEAT20         644.0           1.0           642.0  5.134484   \n",
       "multi_3_PLD20           644.0           1.0           642.0  2.986293   \n",
       "multi_3_SOND            644.0           1.0           642.0  0.257646   \n",
       "multi_4_PFEAT20         717.0           1.0           715.0  0.557241   \n",
       "multi_4_PLD20           717.0           1.0           715.0  1.419805   \n",
       "multi_4_SOND            717.0           1.0           715.0  0.218374   \n",
       "multi_6_PFEAT20         983.0           1.0           981.0  5.558187   \n",
       "multi_6_PLD20           983.0           1.0           981.0  9.941384   \n",
       "multi_6_SOND            983.0           1.0           981.0  0.142526   \n",
       "\n",
       "                   pvalue        r2  lower r2 CI  upper r2 CI  \n",
       "cvc_3_ND         0.004209  0.021133     0.001081     0.066036  \n",
       "cvc_4_ND         0.015371  0.014928     0.000474     0.049859  \n",
       "cvc_6_ND         0.013832  0.012532     0.000448     0.038484  \n",
       "multi_3_PFEAT20  0.023787  0.007934     0.000214     0.025578  \n",
       "multi_3_PLD20    0.084453  0.004630     0.000023     0.020803  \n",
       "multi_3_SOND     0.611916  0.000401     0.000001     0.009699  \n",
       "multi_4_PFEAT20  0.455619  0.000779     0.000002     0.009406  \n",
       "multi_4_PLD20    0.233831  0.001982     0.000006     0.014715  \n",
       "multi_4_SOND     0.640424  0.000305     0.000002     0.007631  \n",
       "multi_6_PFEAT20  0.018590  0.005634     0.000231     0.019467  \n",
       "multi_6_PLD20    0.001665  0.010032     0.002018     0.026083  \n",
       "multi_6_SOND     0.705864  0.000145     0.000001     0.005036  "
      ]
     },
     "execution_count": 20,
     "metadata": {},
     "output_type": "execute_result"
    }
   ],
   "source": [
    "df"
   ]
  },
  {
   "cell_type": "markdown",
   "metadata": {},
   "source": [
    "Please note that the upper and lower bounds of the confidence intervals will vary due to random row selection in the bootstrapping process."
   ]
  },
  {
   "cell_type": "code",
   "execution_count": null,
   "metadata": {},
   "outputs": [],
   "source": []
  }
 ],
 "metadata": {
  "kernelspec": {
   "display_name": "Python 3",
   "language": "python",
   "name": "python3"
  },
  "language_info": {
   "codemirror_mode": {
    "name": "ipython",
    "version": 3
   },
   "file_extension": ".py",
   "mimetype": "text/x-python",
   "name": "python",
   "nbconvert_exporter": "python",
   "pygments_lexer": "ipython3",
   "version": "3.7.7"
  }
 },
 "nbformat": 4,
 "nbformat_minor": 2
}
