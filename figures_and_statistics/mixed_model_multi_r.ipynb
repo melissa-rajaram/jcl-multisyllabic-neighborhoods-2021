{
 "cells": [
  {
   "cell_type": "markdown",
   "metadata": {},
   "source": [
    "# Multisyllabic Analyses: Mixed Models"
   ]
  },
  {
   "cell_type": "markdown",
   "metadata": {},
   "source": [
    "Note that this notebook uses an R kernel for computation.\n",
    "\n",
    "This notebook calculates mixed models for the multisyllabic neighborhood measures as specified below. Prints the output of the model, and the confidence intervals of the estimates to files for processing in a different python notebook.\n",
    "\n",
    "#### Main Text: all neighborhood measures\n",
    "- PACT ~ MULTI X AGE X (ND + SON + PLD20 + PFEAT20)\n",
    "- Variance Inflation Factor (VIF)\n",
    "\n",
    "#### Appendix E: single neighborhood measure\n",
    "- PACT ~ MULTI x AGE x SON\n",
    "- PACT ~ MULTI x AGE x PLD20\n",
    "- PACT ~ MULTI x AGE x PFEAT20\n",
    "- PACT ~ MULTI x AGE x ND \n"
   ]
  },
  {
   "cell_type": "markdown",
   "metadata": {},
   "source": [
    "## Imports and data loading"
   ]
  },
  {
   "cell_type": "code",
   "execution_count": 1,
   "metadata": {},
   "outputs": [
    {
     "name": "stderr",
     "output_type": "stream",
     "text": [
      "Loading required package: Matrix\n",
      "Registered S3 methods overwritten by 'ggplot2':\n",
      "  method         from \n",
      "  [.quosures     rlang\n",
      "  c.quosures     rlang\n",
      "  print.quosures rlang\n",
      "\n",
      "Attaching package: ‘lmerTest’\n",
      "\n",
      "The following object is masked from ‘package:lme4’:\n",
      "\n",
      "    lmer\n",
      "\n",
      "The following object is masked from ‘package:stats’:\n",
      "\n",
      "    step\n",
      "\n",
      "Loading required package: sp\n",
      "Loading required package: raster\n",
      "\n",
      "Attaching package: ‘raster’\n",
      "\n",
      "The following object is masked from ‘package:lme4’:\n",
      "\n",
      "    getData\n",
      "\n"
     ]
    }
   ],
   "source": [
    "# requires lme4 and lmerTest to already be installed, use \"install.packages('')\" as needed\n",
    "setwd(\"~/Dropbox/experiments/python/current_projects/jcl_multisyllabic_neighborhoods_2021/figures_and_statistics/\")\n",
    "library(\"lme4\")\n",
    "library(\"lmerTest\")\n",
    "library(\"usdm\")"
   ]
  },
  {
   "cell_type": "markdown",
   "metadata": {},
   "source": [
    "Load the cvc and multisyllabic data"
   ]
  },
  {
   "cell_type": "code",
   "execution_count": 2,
   "metadata": {},
   "outputs": [],
   "source": [
    "datadir = \"~/Dropbox/experiments/python/current_projects/jcl_multisyllabic_neighborhoods_2021/data/combined/\"\n",
    "tables = \"~/Dropbox/experiments/python/current_projects/jcl_multisyllabic_neighborhoods_2021/data/table_data/\"\n",
    "multi <- read.csv(paste(datadir,\"multi_mixed_nomelt.csv\",sep=\"\"))"
   ]
  },
  {
   "cell_type": "markdown",
   "metadata": {},
   "source": [
    "# Main Text: all neighborhood measures"
   ]
  },
  {
   "cell_type": "code",
   "execution_count": 3,
   "metadata": {},
   "outputs": [],
   "source": [
    "multi.mixed.all <- lmer(PACT ~ age * (ND + SOND + PLD20 + PFEAT20)+ (1|phonological),data = multi)"
   ]
  },
  {
   "cell_type": "code",
   "execution_count": 4,
   "metadata": {},
   "outputs": [
    {
     "name": "stderr",
     "output_type": "stream",
     "text": [
      "\n",
      "Correlation matrix not shown by default, as p = 15 > 12.\n",
      "Use print(obj, correlation=TRUE)  or\n",
      "    vcov(obj)        if you need it\n",
      "\n"
     ]
    },
    {
     "data": {
      "text/plain": [
       "Linear mixed model fit by REML. t-tests use Satterthwaite's method [\n",
       "lmerModLmerTest]\n",
       "Formula: PACT ~ age * (ND + SOND + PLD20 + PFEAT20) + (1 | phonological)\n",
       "   Data: multi\n",
       "\n",
       "REML criterion at convergence: 4323.2\n",
       "\n",
       "Scaled residuals: \n",
       "    Min      1Q  Median      3Q     Max \n",
       "-5.1509 -0.4240 -0.0266  0.5209  2.8532 \n",
       "\n",
       "Random effects:\n",
       " Groups       Name        Variance Std.Dev.\n",
       " phonological (Intercept) 0.2076   0.4556  \n",
       " Residual                 0.2105   0.4588  \n",
       "Number of obs: 2344, groups:  phonological, 1254\n",
       "\n",
       "Fixed effects:\n",
       "                   Estimate Std. Error         df t value Pr(>|t|)  \n",
       "(Intercept)      -8.860e-02  1.129e-01  2.317e+03  -0.785   0.4328  \n",
       "agesix            2.053e-01  1.264e-01  1.609e+03   1.624   0.1045  \n",
       "agethree          2.900e-01  1.382e-01  1.527e+03   2.098   0.0361 *\n",
       "ND                2.351e-02  2.424e-02  2.301e+03   0.970   0.3321  \n",
       "SOND              5.438e-04  5.247e-03  2.329e+03   0.104   0.9175  \n",
       "PLD20            -8.396e-03  3.618e-02  2.329e+03  -0.232   0.8165  \n",
       "PFEAT20          -3.528e-03  8.113e-02  2.300e+03  -0.043   0.9653  \n",
       "agesix:ND        -1.538e-02  2.529e-02  1.507e+03  -0.608   0.5432  \n",
       "agethree:ND      -4.933e-02  2.928e-02  1.441e+03  -1.684   0.0923 .\n",
       "agesix:SOND      -9.192e-04  5.362e-03  1.648e+03  -0.171   0.8639  \n",
       "agethree:SOND     2.678e-03  6.270e-03  1.511e+03   0.427   0.6693  \n",
       "agesix:PLD20     -5.730e-02  4.017e-02  1.673e+03  -1.427   0.1539  \n",
       "agethree:PLD20   -2.210e-02  4.356e-02  1.570e+03  -0.507   0.6121  \n",
       "agesix:PFEAT20    1.047e-02  9.101e-02  1.559e+03   0.115   0.9084  \n",
       "agethree:PFEAT20 -1.485e-01  9.764e-02  1.511e+03  -1.521   0.1285  \n",
       "---\n",
       "Signif. codes:  0 ‘***’ 0.001 ‘**’ 0.01 ‘*’ 0.05 ‘.’ 0.1 ‘ ’ 1"
      ]
     },
     "metadata": {},
     "output_type": "display_data"
    }
   ],
   "source": [
    "summary(multi.mixed.all)"
   ]
  },
  {
   "cell_type": "code",
   "execution_count": 5,
   "metadata": {},
   "outputs": [
    {
     "name": "stderr",
     "output_type": "stream",
     "text": [
      "Computing profile confidence intervals ...\n"
     ]
    },
    {
     "data": {
      "text/html": [
       "<table>\n",
       "<thead><tr><th></th><th scope=col>2.5 %</th><th scope=col>97.5 %</th></tr></thead>\n",
       "<tbody>\n",
       "\t<tr><th scope=row>.sig01</th><td> 0.426409914</td><td>0.484107346 </td></tr>\n",
       "\t<tr><th scope=row>.sigma</th><td> 0.439379597</td><td>0.475769141 </td></tr>\n",
       "\t<tr><th scope=row>(Intercept)</th><td>-0.309592944</td><td>0.132036071 </td></tr>\n",
       "\t<tr><th scope=row>agesix</th><td>-0.041689893</td><td>0.452326337 </td></tr>\n",
       "\t<tr><th scope=row>agethree</th><td> 0.019862578</td><td>0.560113968 </td></tr>\n",
       "\t<tr><th scope=row>ND</th><td>-0.023841658</td><td>0.070896103 </td></tr>\n",
       "\t<tr><th scope=row>SOND</th><td>-0.009710028</td><td>0.010799023 </td></tr>\n",
       "\t<tr><th scope=row>PLD20</th><td>-0.079094601</td><td>0.062357701 </td></tr>\n",
       "\t<tr><th scope=row>PFEAT20</th><td>-0.162142730</td><td>0.155026335 </td></tr>\n",
       "\t<tr><th scope=row>agesix:ND</th><td>-0.064805876</td><td>0.034042235 </td></tr>\n",
       "\t<tr><th scope=row>agethree:ND</th><td>-0.106547301</td><td>0.007891703 </td></tr>\n",
       "\t<tr><th scope=row>agesix:SOND</th><td>-0.011397088</td><td>0.009561061 </td></tr>\n",
       "\t<tr><th scope=row>agethree:SOND</th><td>-0.009572887</td><td>0.014931072 </td></tr>\n",
       "\t<tr><th scope=row>agesix:PLD20</th><td>-0.135820596</td><td>0.021191775 </td></tr>\n",
       "\t<tr><th scope=row>agethree:PLD20</th><td>-0.107234217</td><td>0.063026449 </td></tr>\n",
       "\t<tr><th scope=row>agesix:PFEAT20</th><td>-0.167374625</td><td>0.188356679 </td></tr>\n",
       "\t<tr><th scope=row>agethree:PFEAT20</th><td>-0.339269769</td><td>0.042294517 </td></tr>\n",
       "</tbody>\n",
       "</table>\n"
      ],
      "text/latex": [
       "\\begin{tabular}{r|ll}\n",
       "  & 2.5 \\% & 97.5 \\%\\\\\n",
       "\\hline\n",
       "\t.sig01 &  0.426409914 & 0.484107346 \\\\\n",
       "\t.sigma &  0.439379597 & 0.475769141 \\\\\n",
       "\t(Intercept) & -0.309592944 & 0.132036071 \\\\\n",
       "\tagesix & -0.041689893 & 0.452326337 \\\\\n",
       "\tagethree &  0.019862578 & 0.560113968 \\\\\n",
       "\tND & -0.023841658 & 0.070896103 \\\\\n",
       "\tSOND & -0.009710028 & 0.010799023 \\\\\n",
       "\tPLD20 & -0.079094601 & 0.062357701 \\\\\n",
       "\tPFEAT20 & -0.162142730 & 0.155026335 \\\\\n",
       "\tagesix:ND & -0.064805876 & 0.034042235 \\\\\n",
       "\tagethree:ND & -0.106547301 & 0.007891703 \\\\\n",
       "\tagesix:SOND & -0.011397088 & 0.009561061 \\\\\n",
       "\tagethree:SOND & -0.009572887 & 0.014931072 \\\\\n",
       "\tagesix:PLD20 & -0.135820596 & 0.021191775 \\\\\n",
       "\tagethree:PLD20 & -0.107234217 & 0.063026449 \\\\\n",
       "\tagesix:PFEAT20 & -0.167374625 & 0.188356679 \\\\\n",
       "\tagethree:PFEAT20 & -0.339269769 & 0.042294517 \\\\\n",
       "\\end{tabular}\n"
      ],
      "text/markdown": [
       "\n",
       "| <!--/--> | 2.5 % | 97.5 % |\n",
       "|---|---|---|\n",
       "| .sig01 |  0.426409914 | 0.484107346  |\n",
       "| .sigma |  0.439379597 | 0.475769141  |\n",
       "| (Intercept) | -0.309592944 | 0.132036071  |\n",
       "| agesix | -0.041689893 | 0.452326337  |\n",
       "| agethree |  0.019862578 | 0.560113968  |\n",
       "| ND | -0.023841658 | 0.070896103  |\n",
       "| SOND | -0.009710028 | 0.010799023  |\n",
       "| PLD20 | -0.079094601 | 0.062357701  |\n",
       "| PFEAT20 | -0.162142730 | 0.155026335  |\n",
       "| agesix:ND | -0.064805876 | 0.034042235  |\n",
       "| agethree:ND | -0.106547301 | 0.007891703  |\n",
       "| agesix:SOND | -0.011397088 | 0.009561061  |\n",
       "| agethree:SOND | -0.009572887 | 0.014931072  |\n",
       "| agesix:PLD20 | -0.135820596 | 0.021191775  |\n",
       "| agethree:PLD20 | -0.107234217 | 0.063026449  |\n",
       "| agesix:PFEAT20 | -0.167374625 | 0.188356679  |\n",
       "| agethree:PFEAT20 | -0.339269769 | 0.042294517  |\n",
       "\n"
      ],
      "text/plain": [
       "                 2.5 %        97.5 %     \n",
       ".sig01            0.426409914 0.484107346\n",
       ".sigma            0.439379597 0.475769141\n",
       "(Intercept)      -0.309592944 0.132036071\n",
       "agesix           -0.041689893 0.452326337\n",
       "agethree          0.019862578 0.560113968\n",
       "ND               -0.023841658 0.070896103\n",
       "SOND             -0.009710028 0.010799023\n",
       "PLD20            -0.079094601 0.062357701\n",
       "PFEAT20          -0.162142730 0.155026335\n",
       "agesix:ND        -0.064805876 0.034042235\n",
       "agethree:ND      -0.106547301 0.007891703\n",
       "agesix:SOND      -0.011397088 0.009561061\n",
       "agethree:SOND    -0.009572887 0.014931072\n",
       "agesix:PLD20     -0.135820596 0.021191775\n",
       "agethree:PLD20   -0.107234217 0.063026449\n",
       "agesix:PFEAT20   -0.167374625 0.188356679\n",
       "agethree:PFEAT20 -0.339269769 0.042294517"
      ]
     },
     "metadata": {},
     "output_type": "display_data"
    }
   ],
   "source": [
    "confint(multi.mixed.all)"
   ]
  },
  {
   "cell_type": "code",
   "execution_count": 7,
   "metadata": {},
   "outputs": [
    {
     "name": "stderr",
     "output_type": "stream",
     "text": [
      "Computing profile confidence intervals ...\n"
     ]
    }
   ],
   "source": [
    "write.csv( summary(multi.mixed.all)$coefficients,paste(tables,\"multi_tables/multi_mixed_all.cvc\",sep=\"\"))\n",
    "write.csv(confint(multi.mixed.all),paste(tables,\"multi_tables/multi_mixed_all_confint.csv\",sep=\"\"))"
   ]
  },
  {
   "cell_type": "markdown",
   "metadata": {},
   "source": [
    "## Variance Inflation Factor"
   ]
  },
  {
   "cell_type": "code",
   "execution_count": 9,
   "metadata": {},
   "outputs": [],
   "source": [
    "multi.neighborhoods <- multi[c('ND', 'SOND', 'PLD20', 'PFEAT20')]"
   ]
  },
  {
   "cell_type": "code",
   "execution_count": 11,
   "metadata": {},
   "outputs": [
    {
     "data": {
      "text/html": [
       "<table>\n",
       "<thead><tr><th scope=col>Variables</th><th scope=col>VIF</th></tr></thead>\n",
       "<tbody>\n",
       "\t<tr><td>ND      </td><td>1.370283</td></tr>\n",
       "\t<tr><td>SOND    </td><td>1.018270</td></tr>\n",
       "\t<tr><td>PLD20   </td><td>2.355803</td></tr>\n",
       "\t<tr><td>PFEAT20 </td><td>2.078128</td></tr>\n",
       "</tbody>\n",
       "</table>\n"
      ],
      "text/latex": [
       "\\begin{tabular}{r|ll}\n",
       " Variables & VIF\\\\\n",
       "\\hline\n",
       "\t ND       & 1.370283\\\\\n",
       "\t SOND     & 1.018270\\\\\n",
       "\t PLD20    & 2.355803\\\\\n",
       "\t PFEAT20  & 2.078128\\\\\n",
       "\\end{tabular}\n"
      ],
      "text/markdown": [
       "\n",
       "| Variables | VIF |\n",
       "|---|---|\n",
       "| ND       | 1.370283 |\n",
       "| SOND     | 1.018270 |\n",
       "| PLD20    | 2.355803 |\n",
       "| PFEAT20  | 2.078128 |\n",
       "\n"
      ],
      "text/plain": [
       "  Variables VIF     \n",
       "1 ND        1.370283\n",
       "2 SOND      1.018270\n",
       "3 PLD20     2.355803\n",
       "4 PFEAT20   2.078128"
      ]
     },
     "metadata": {},
     "output_type": "display_data"
    }
   ],
   "source": [
    "vif(multi.neighborhoods)"
   ]
  },
  {
   "cell_type": "code",
   "execution_count": 13,
   "metadata": {},
   "outputs": [],
   "source": [
    "write.csv(vif(multi.neighborhoods),paste(tables,\"multi_tables/multi_vif.csv\",sep=\"\"))"
   ]
  },
  {
   "cell_type": "markdown",
   "metadata": {},
   "source": [
    "# Appendix E: Single neighborhood measure"
   ]
  },
  {
   "cell_type": "markdown",
   "metadata": {},
   "source": [
    "### SOND"
   ]
  },
  {
   "cell_type": "code",
   "execution_count": 14,
   "metadata": {},
   "outputs": [],
   "source": [
    "multi.mixed.sond <- lmer(PACT ~ age * SOND + (1|phonological),data = multi)"
   ]
  },
  {
   "cell_type": "code",
   "execution_count": 15,
   "metadata": {},
   "outputs": [
    {
     "data": {
      "text/plain": [
       "Linear mixed model fit by REML. t-tests use Satterthwaite's method [\n",
       "lmerModLmerTest]\n",
       "Formula: PACT ~ age * SOND + (1 | phonological)\n",
       "   Data: multi\n",
       "\n",
       "REML criterion at convergence: 4298.5\n",
       "\n",
       "Scaled residuals: \n",
       "    Min      1Q  Median      3Q     Max \n",
       "-5.0922 -0.4410 -0.0474  0.5351  2.8877 \n",
       "\n",
       "Random effects:\n",
       " Groups       Name        Variance Std.Dev.\n",
       " phonological (Intercept) 0.2092   0.4574  \n",
       " Residual                 0.2112   0.4596  \n",
       "Number of obs: 2344, groups:  phonological, 1254\n",
       "\n",
       "Fixed effects:\n",
       "                Estimate Std. Error         df t value Pr(>|t|)   \n",
       "(Intercept)   -1.121e-01  3.836e-02  2.332e+03  -2.921  0.00352 **\n",
       "agesix         4.471e-02  4.257e-02  1.603e+03   1.050  0.29377   \n",
       "agethree      -4.462e-02  4.496e-02  1.502e+03  -0.993  0.32105   \n",
       "SOND           8.096e-04  5.213e-03  2.338e+03   0.155  0.87658   \n",
       "agesix:SOND   -9.986e-04  5.328e-03  1.648e+03  -0.187  0.85135   \n",
       "agethree:SOND  3.926e-03  6.203e-03  1.505e+03   0.633  0.52683   \n",
       "---\n",
       "Signif. codes:  0 ‘***’ 0.001 ‘**’ 0.01 ‘*’ 0.05 ‘.’ 0.1 ‘ ’ 1\n",
       "\n",
       "Correlation of Fixed Effects:\n",
       "            (Intr) agesix agethr SOND   ags:SOND\n",
       "agesix      -0.643                              \n",
       "agethree    -0.588  0.521                       \n",
       "SOND        -0.804  0.524  0.490                \n",
       "agesix:SOND  0.622 -0.802 -0.467 -0.773         \n",
       "agethr:SOND  0.468 -0.418 -0.803 -0.584  0.562  "
      ]
     },
     "metadata": {},
     "output_type": "display_data"
    }
   ],
   "source": [
    "summary(multi.mixed.sond)"
   ]
  },
  {
   "cell_type": "code",
   "execution_count": 17,
   "metadata": {},
   "outputs": [
    {
     "name": "stderr",
     "output_type": "stream",
     "text": [
      "Computing profile confidence intervals ...\n"
     ]
    },
    {
     "data": {
      "text/html": [
       "<table>\n",
       "<thead><tr><th></th><th scope=col>2.5 %</th><th scope=col>97.5 %</th></tr></thead>\n",
       "<tbody>\n",
       "\t<tr><th scope=row>.sig01</th><td> 0.428477643</td><td> 0.48647610 </td></tr>\n",
       "\t<tr><th scope=row>.sigma</th><td> 0.441142851</td><td> 0.47770279 </td></tr>\n",
       "\t<tr><th scope=row>(Intercept)</th><td>-0.187387659</td><td>-0.03684929 </td></tr>\n",
       "\t<tr><th scope=row>agesix</th><td>-0.038768307</td><td> 0.12811451 </td></tr>\n",
       "\t<tr><th scope=row>agethree</th><td>-0.132655742</td><td> 0.04344342 </td></tr>\n",
       "\t<tr><th scope=row>SOND</th><td>-0.009397726</td><td> 0.01101727 </td></tr>\n",
       "\t<tr><th scope=row>agesix:SOND</th><td>-0.011436572</td><td> 0.00943559 </td></tr>\n",
       "\t<tr><th scope=row>agethree:SOND</th><td>-0.008225668</td><td> 0.01607254 </td></tr>\n",
       "</tbody>\n",
       "</table>\n"
      ],
      "text/latex": [
       "\\begin{tabular}{r|ll}\n",
       "  & 2.5 \\% & 97.5 \\%\\\\\n",
       "\\hline\n",
       "\t.sig01 &  0.428477643 &  0.48647610 \\\\\n",
       "\t.sigma &  0.441142851 &  0.47770279 \\\\\n",
       "\t(Intercept) & -0.187387659 & -0.03684929 \\\\\n",
       "\tagesix & -0.038768307 &  0.12811451 \\\\\n",
       "\tagethree & -0.132655742 &  0.04344342 \\\\\n",
       "\tSOND & -0.009397726 &  0.01101727 \\\\\n",
       "\tagesix:SOND & -0.011436572 &  0.00943559 \\\\\n",
       "\tagethree:SOND & -0.008225668 &  0.01607254 \\\\\n",
       "\\end{tabular}\n"
      ],
      "text/markdown": [
       "\n",
       "| <!--/--> | 2.5 % | 97.5 % |\n",
       "|---|---|---|\n",
       "| .sig01 |  0.428477643 |  0.48647610  |\n",
       "| .sigma |  0.441142851 |  0.47770279  |\n",
       "| (Intercept) | -0.187387659 | -0.03684929  |\n",
       "| agesix | -0.038768307 |  0.12811451  |\n",
       "| agethree | -0.132655742 |  0.04344342  |\n",
       "| SOND | -0.009397726 |  0.01101727  |\n",
       "| agesix:SOND | -0.011436572 |  0.00943559  |\n",
       "| agethree:SOND | -0.008225668 |  0.01607254  |\n",
       "\n"
      ],
      "text/plain": [
       "              2.5 %        97.5 %     \n",
       ".sig01         0.428477643  0.48647610\n",
       ".sigma         0.441142851  0.47770279\n",
       "(Intercept)   -0.187387659 -0.03684929\n",
       "agesix        -0.038768307  0.12811451\n",
       "agethree      -0.132655742  0.04344342\n",
       "SOND          -0.009397726  0.01101727\n",
       "agesix:SOND   -0.011436572  0.00943559\n",
       "agethree:SOND -0.008225668  0.01607254"
      ]
     },
     "metadata": {},
     "output_type": "display_data"
    }
   ],
   "source": [
    "confint(multi.mixed.sond)"
   ]
  },
  {
   "cell_type": "code",
   "execution_count": 16,
   "metadata": {},
   "outputs": [
    {
     "name": "stderr",
     "output_type": "stream",
     "text": [
      "Computing profile confidence intervals ...\n"
     ]
    }
   ],
   "source": [
    "write.csv( summary(multi.mixed.sond)$coefficients,paste(tables,\"multi_tables/multi_mixed_sond.cvc\",sep=\"\"))\n",
    "write.csv(confint(multi.mixed.sond),paste(tables,\"multi_tables/multi_mixed_sond_confint.csv\",sep=\"\"))"
   ]
  },
  {
   "cell_type": "markdown",
   "metadata": {},
   "source": [
    "### PLD20"
   ]
  },
  {
   "cell_type": "code",
   "execution_count": 18,
   "metadata": {},
   "outputs": [],
   "source": [
    "multi.mixed.pld20 <- lmer(PACT ~ age * PLD20 + (1|phonological),data = multi)"
   ]
  },
  {
   "cell_type": "code",
   "execution_count": 19,
   "metadata": {},
   "outputs": [
    {
     "data": {
      "text/plain": [
       "Linear mixed model fit by REML. t-tests use Satterthwaite's method [\n",
       "lmerModLmerTest]\n",
       "Formula: PACT ~ age * PLD20 + (1 | phonological)\n",
       "   Data: multi\n",
       "\n",
       "REML criterion at convergence: 4276.3\n",
       "\n",
       "Scaled residuals: \n",
       "    Min      1Q  Median      3Q     Max \n",
       "-5.1068 -0.4298 -0.0214  0.5336  2.8401 \n",
       "\n",
       "Random effects:\n",
       " Groups       Name        Variance Std.Dev.\n",
       " phonological (Intercept) 0.2070   0.4549  \n",
       " Residual                 0.2106   0.4589  \n",
       "Number of obs: 2344, groups:  phonological, 1254\n",
       "\n",
       "Fixed effects:\n",
       "                 Estimate Std. Error         df t value Pr(>|t|)  \n",
       "(Intercept)      -0.03334    0.07447 2308.76341  -0.448   0.6544  \n",
       "agesix            0.17298    0.08089 1607.23600   2.139   0.0326 *\n",
       "agethree          0.08699    0.08899 1506.18645   0.978   0.3284  \n",
       "PLD20            -0.02294    0.02320 2321.73779  -0.989   0.3228  \n",
       "agesix:PLD20     -0.04609    0.02572 1672.05622  -1.792   0.0733 .\n",
       "agethree:PLD20   -0.03585    0.02800 1541.51987  -1.280   0.2006  \n",
       "---\n",
       "Signif. codes:  0 ‘***’ 0.001 ‘**’ 0.01 ‘*’ 0.05 ‘.’ 0.1 ‘ ’ 1\n",
       "\n",
       "Correlation of Fixed Effects:\n",
       "            (Intr) agesix agethr PLD20  ags:PLD20\n",
       "agesix      -0.652                               \n",
       "agethree    -0.547  0.504                        \n",
       "PLD20       -0.952  0.632  0.527                 \n",
       "agesx:PLD20  0.610 -0.953 -0.476 -0.652          \n",
       "agthr:PLD20  0.524 -0.481 -0.954 -0.556  0.501   "
      ]
     },
     "metadata": {},
     "output_type": "display_data"
    }
   ],
   "source": [
    "summary(multi.mixed.pld20)"
   ]
  },
  {
   "cell_type": "code",
   "execution_count": 20,
   "metadata": {},
   "outputs": [
    {
     "name": "stderr",
     "output_type": "stream",
     "text": [
      "Computing profile confidence intervals ...\n"
     ]
    },
    {
     "data": {
      "text/html": [
       "<table>\n",
       "<thead><tr><th></th><th scope=col>2.5 %</th><th scope=col>97.5 %</th></tr></thead>\n",
       "<tbody>\n",
       "\t<tr><th scope=row>.sig01</th><td> 0.42610304</td><td>0.483851279</td></tr>\n",
       "\t<tr><th scope=row>.sigma</th><td> 0.44056546</td><td>0.477022238</td></tr>\n",
       "\t<tr><th scope=row>(Intercept)</th><td>-0.17933509</td><td>0.112536250</td></tr>\n",
       "\t<tr><th scope=row>agesix</th><td> 0.01440877</td><td>0.331416601</td></tr>\n",
       "\t<tr><th scope=row>agethree</th><td>-0.08735000</td><td>0.261249957</td></tr>\n",
       "\t<tr><th scope=row>PLD20</th><td>-0.06836256</td><td>0.022491709</td></tr>\n",
       "\t<tr><th scope=row>agesix:PLD20</th><td>-0.09646061</td><td>0.004280913</td></tr>\n",
       "\t<tr><th scope=row>agethree:PLD20</th><td>-0.09069254</td><td>0.019012745</td></tr>\n",
       "</tbody>\n",
       "</table>\n"
      ],
      "text/latex": [
       "\\begin{tabular}{r|ll}\n",
       "  & 2.5 \\% & 97.5 \\%\\\\\n",
       "\\hline\n",
       "\t.sig01 &  0.42610304 & 0.483851279\\\\\n",
       "\t.sigma &  0.44056546 & 0.477022238\\\\\n",
       "\t(Intercept) & -0.17933509 & 0.112536250\\\\\n",
       "\tagesix &  0.01440877 & 0.331416601\\\\\n",
       "\tagethree & -0.08735000 & 0.261249957\\\\\n",
       "\tPLD20 & -0.06836256 & 0.022491709\\\\\n",
       "\tagesix:PLD20 & -0.09646061 & 0.004280913\\\\\n",
       "\tagethree:PLD20 & -0.09069254 & 0.019012745\\\\\n",
       "\\end{tabular}\n"
      ],
      "text/markdown": [
       "\n",
       "| <!--/--> | 2.5 % | 97.5 % |\n",
       "|---|---|---|\n",
       "| .sig01 |  0.42610304 | 0.483851279 |\n",
       "| .sigma |  0.44056546 | 0.477022238 |\n",
       "| (Intercept) | -0.17933509 | 0.112536250 |\n",
       "| agesix |  0.01440877 | 0.331416601 |\n",
       "| agethree | -0.08735000 | 0.261249957 |\n",
       "| PLD20 | -0.06836256 | 0.022491709 |\n",
       "| agesix:PLD20 | -0.09646061 | 0.004280913 |\n",
       "| agethree:PLD20 | -0.09069254 | 0.019012745 |\n",
       "\n"
      ],
      "text/plain": [
       "               2.5 %       97.5 %     \n",
       ".sig01          0.42610304 0.483851279\n",
       ".sigma          0.44056546 0.477022238\n",
       "(Intercept)    -0.17933509 0.112536250\n",
       "agesix          0.01440877 0.331416601\n",
       "agethree       -0.08735000 0.261249957\n",
       "PLD20          -0.06836256 0.022491709\n",
       "agesix:PLD20   -0.09646061 0.004280913\n",
       "agethree:PLD20 -0.09069254 0.019012745"
      ]
     },
     "metadata": {},
     "output_type": "display_data"
    }
   ],
   "source": [
    "confint(multi.mixed.pld20)"
   ]
  },
  {
   "cell_type": "code",
   "execution_count": 21,
   "metadata": {},
   "outputs": [
    {
     "name": "stderr",
     "output_type": "stream",
     "text": [
      "Computing profile confidence intervals ...\n"
     ]
    }
   ],
   "source": [
    "write.csv( summary(multi.mixed.pld20)$coefficients,paste(tables,\"multi_tables/multi_mixed_pld20.cvc\",sep=\"\"))\n",
    "write.csv(confint(multi.mixed.pld20),paste(tables,\"multi_tables/multi_mixed_pld20_confint.csv\",sep=\"\"))"
   ]
  },
  {
   "cell_type": "markdown",
   "metadata": {},
   "source": [
    "### PFEAT20"
   ]
  },
  {
   "cell_type": "code",
   "execution_count": 22,
   "metadata": {},
   "outputs": [],
   "source": [
    "multi.mixed.pfeat20 <- lmer(PACT ~ age * PFEAT20 + (1|phonological),data = multi)"
   ]
  },
  {
   "cell_type": "code",
   "execution_count": 23,
   "metadata": {},
   "outputs": [
    {
     "data": {
      "text/plain": [
       "Linear mixed model fit by REML. t-tests use Satterthwaite's method [\n",
       "lmerModLmerTest]\n",
       "Formula: PACT ~ age * PFEAT20 + (1 | phonological)\n",
       "   Data: multi\n",
       "\n",
       "REML criterion at convergence: 4272.9\n",
       "\n",
       "Scaled residuals: \n",
       "    Min      1Q  Median      3Q     Max \n",
       "-5.0843 -0.4213 -0.0312  0.5231  2.9076 \n",
       "\n",
       "Random effects:\n",
       " Groups       Name        Variance Std.Dev.\n",
       " phonological (Intercept) 0.2076   0.4556  \n",
       " Residual                 0.2106   0.4589  \n",
       "Number of obs: 2344, groups:  phonological, 1254\n",
       "\n",
       "Fixed effects:\n",
       "                   Estimate Std. Error         df t value Pr(>|t|)  \n",
       "(Intercept)        -0.03510    0.08976 2287.42575  -0.391   0.6958  \n",
       "agesix              0.15301    0.09870 1561.50370   1.550   0.1213  \n",
       "agethree            0.19350    0.10852 1492.02738   1.783   0.0748 .\n",
       "PFEAT20            -0.04497    0.05556 2294.69219  -0.809   0.4184  \n",
       "agesix:PFEAT20     -0.08001    0.06298 1595.87537  -1.270   0.2041  \n",
       "agethree:PFEAT20   -0.13797    0.06757 1511.31011  -2.042   0.0413 *\n",
       "---\n",
       "Signif. codes:  0 ‘***’ 0.001 ‘**’ 0.01 ‘*’ 0.05 ‘.’ 0.1 ‘ ’ 1\n",
       "\n",
       "Correlation of Fixed Effects:\n",
       "            (Intr) agesix agethr PFEAT2 ags:PFEAT20\n",
       "agesix      -0.620                                 \n",
       "agethree    -0.525  0.482                          \n",
       "PFEAT20     -0.967  0.605  0.510                   \n",
       "ags:PFEAT20  0.571 -0.968 -0.455 -0.596            \n",
       "agt:PFEAT20  0.510 -0.467 -0.969 -0.530  0.471     "
      ]
     },
     "metadata": {},
     "output_type": "display_data"
    }
   ],
   "source": [
    "summary(multi.mixed.pfeat20)"
   ]
  },
  {
   "cell_type": "code",
   "execution_count": 24,
   "metadata": {},
   "outputs": [
    {
     "name": "stderr",
     "output_type": "stream",
     "text": [
      "Computing profile confidence intervals ...\n"
     ]
    },
    {
     "data": {
      "text/html": [
       "<table>\n",
       "<thead><tr><th></th><th scope=col>2.5 %</th><th scope=col>97.5 %</th></tr></thead>\n",
       "<tbody>\n",
       "\t<tr><th scope=row>.sig01</th><td> 0.42679663 </td><td> 0.484600128</td></tr>\n",
       "\t<tr><th scope=row>.sigma</th><td> 0.44050420 </td><td> 0.476975403</td></tr>\n",
       "\t<tr><th scope=row>(Intercept)</th><td>-0.21098757 </td><td> 0.140671208</td></tr>\n",
       "\t<tr><th scope=row>agesix</th><td>-0.04032127 </td><td> 0.346270019</td></tr>\n",
       "\t<tr><th scope=row>agethree</th><td>-0.01907283 </td><td> 0.406014717</td></tr>\n",
       "\t<tr><th scope=row>PFEAT20</th><td>-0.15378647 </td><td> 0.063839020</td></tr>\n",
       "\t<tr><th scope=row>agesix:PFEAT20</th><td>-0.20338381 </td><td> 0.043318759</td></tr>\n",
       "\t<tr><th scope=row>agethree:PFEAT20</th><td>-0.27029466 </td><td>-0.005604461</td></tr>\n",
       "</tbody>\n",
       "</table>\n"
      ],
      "text/latex": [
       "\\begin{tabular}{r|ll}\n",
       "  & 2.5 \\% & 97.5 \\%\\\\\n",
       "\\hline\n",
       "\t.sig01 &  0.42679663  &  0.484600128\\\\\n",
       "\t.sigma &  0.44050420  &  0.476975403\\\\\n",
       "\t(Intercept) & -0.21098757  &  0.140671208\\\\\n",
       "\tagesix & -0.04032127  &  0.346270019\\\\\n",
       "\tagethree & -0.01907283  &  0.406014717\\\\\n",
       "\tPFEAT20 & -0.15378647  &  0.063839020\\\\\n",
       "\tagesix:PFEAT20 & -0.20338381  &  0.043318759\\\\\n",
       "\tagethree:PFEAT20 & -0.27029466  & -0.005604461\\\\\n",
       "\\end{tabular}\n"
      ],
      "text/markdown": [
       "\n",
       "| <!--/--> | 2.5 % | 97.5 % |\n",
       "|---|---|---|\n",
       "| .sig01 |  0.42679663  |  0.484600128 |\n",
       "| .sigma |  0.44050420  |  0.476975403 |\n",
       "| (Intercept) | -0.21098757  |  0.140671208 |\n",
       "| agesix | -0.04032127  |  0.346270019 |\n",
       "| agethree | -0.01907283  |  0.406014717 |\n",
       "| PFEAT20 | -0.15378647  |  0.063839020 |\n",
       "| agesix:PFEAT20 | -0.20338381  |  0.043318759 |\n",
       "| agethree:PFEAT20 | -0.27029466  | -0.005604461 |\n",
       "\n"
      ],
      "text/plain": [
       "                 2.5 %       97.5 %      \n",
       ".sig01            0.42679663  0.484600128\n",
       ".sigma            0.44050420  0.476975403\n",
       "(Intercept)      -0.21098757  0.140671208\n",
       "agesix           -0.04032127  0.346270019\n",
       "agethree         -0.01907283  0.406014717\n",
       "PFEAT20          -0.15378647  0.063839020\n",
       "agesix:PFEAT20   -0.20338381  0.043318759\n",
       "agethree:PFEAT20 -0.27029466 -0.005604461"
      ]
     },
     "metadata": {},
     "output_type": "display_data"
    }
   ],
   "source": [
    "confint(multi.mixed.pfeat20)"
   ]
  },
  {
   "cell_type": "code",
   "execution_count": 26,
   "metadata": {},
   "outputs": [
    {
     "name": "stderr",
     "output_type": "stream",
     "text": [
      "Computing profile confidence intervals ...\n"
     ]
    }
   ],
   "source": [
    "write.csv( summary(multi.mixed.pfeat20)$coefficients,paste(tables,\"multi_tables/multi_mixed_pfeat20.cvc\",sep=\"\"))\n",
    "write.csv(confint(multi.mixed.pfeat20),paste(tables,\"multi_tables/multi_mixed_pfeat20_confint.csv\",sep=\"\"))"
   ]
  },
  {
   "cell_type": "markdown",
   "metadata": {},
   "source": [
    "### ND"
   ]
  },
  {
   "cell_type": "code",
   "execution_count": 27,
   "metadata": {},
   "outputs": [],
   "source": [
    "multi.mixed.nd <- lmer(PACT ~ age * ND + (1|phonological),data = multi)"
   ]
  },
  {
   "cell_type": "code",
   "execution_count": 28,
   "metadata": {},
   "outputs": [
    {
     "data": {
      "text/plain": [
       "Linear mixed model fit by REML. t-tests use Satterthwaite's method [\n",
       "lmerModLmerTest]\n",
       "Formula: PACT ~ age * ND + (1 | phonological)\n",
       "   Data: multi\n",
       "\n",
       "REML criterion at convergence: 4286.1\n",
       "\n",
       "Scaled residuals: \n",
       "    Min      1Q  Median      3Q     Max \n",
       "-5.0654 -0.4337 -0.0361  0.5266  2.8303 \n",
       "\n",
       "Random effects:\n",
       " Groups       Name        Variance Std.Dev.\n",
       " phonological (Intercept) 0.2081   0.4562  \n",
       " Residual                 0.2112   0.4596  \n",
       "Number of obs: 2344, groups:  phonological, 1254\n",
       "\n",
       "Fixed effects:\n",
       "              Estimate Std. Error         df t value Pr(>|t|)    \n",
       "(Intercept) -1.209e-01  2.550e-02  2.319e+03  -4.740 2.26e-06 ***\n",
       "agesix       3.149e-02  2.786e-02  1.584e+03   1.130    0.259    \n",
       "agethree    -1.260e-02  3.032e-02  1.490e+03  -0.416    0.678    \n",
       "ND           2.686e-02  2.080e-02  2.332e+03   1.291    0.197    \n",
       "agesix:ND    5.176e-03  2.142e-02  1.493e+03   0.242    0.809    \n",
       "agethree:ND -1.732e-02  2.488e-02  1.421e+03  -0.696    0.486    \n",
       "---\n",
       "Signif. codes:  0 ‘***’ 0.001 ‘**’ 0.01 ‘*’ 0.05 ‘.’ 0.1 ‘ ’ 1\n",
       "\n",
       "Correlation of Fixed Effects:\n",
       "            (Intr) agesix agethr ND     ags:ND\n",
       "agesix      -0.648                            \n",
       "agethree    -0.555  0.507                     \n",
       "ND          -0.446  0.296  0.263              \n",
       "agesix:ND    0.340 -0.466 -0.252 -0.729       \n",
       "agethree:ND  0.258 -0.235 -0.470 -0.557  0.533"
      ]
     },
     "metadata": {},
     "output_type": "display_data"
    }
   ],
   "source": [
    "summary(multi.mixed.nd)"
   ]
  },
  {
   "cell_type": "code",
   "execution_count": 29,
   "metadata": {},
   "outputs": [
    {
     "name": "stderr",
     "output_type": "stream",
     "text": [
      "Computing profile confidence intervals ...\n"
     ]
    },
    {
     "data": {
      "text/html": [
       "<table>\n",
       "<thead><tr><th></th><th scope=col>2.5 %</th><th scope=col>97.5 %</th></tr></thead>\n",
       "<tbody>\n",
       "\t<tr><th scope=row>.sig01</th><td> 0.42740947</td><td> 0.48528862</td></tr>\n",
       "\t<tr><th scope=row>.sigma</th><td> 0.44114971</td><td> 0.47767096</td></tr>\n",
       "\t<tr><th scope=row>(Intercept)</th><td>-0.17106716</td><td>-0.07078393</td></tr>\n",
       "\t<tr><th scope=row>agesix</th><td>-0.02338504</td><td> 0.08626425</td></tr>\n",
       "\t<tr><th scope=row>agethree</th><td>-0.07197487</td><td> 0.04678563</td></tr>\n",
       "\t<tr><th scope=row>ND</th><td>-0.01388146</td><td> 0.06759128</td></tr>\n",
       "\t<tr><th scope=row>agesix:ND</th><td>-0.03676578</td><td> 0.04712427</td></tr>\n",
       "\t<tr><th scope=row>agethree:ND</th><td>-0.06605247</td><td> 0.03139295</td></tr>\n",
       "</tbody>\n",
       "</table>\n"
      ],
      "text/latex": [
       "\\begin{tabular}{r|ll}\n",
       "  & 2.5 \\% & 97.5 \\%\\\\\n",
       "\\hline\n",
       "\t.sig01 &  0.42740947 &  0.48528862\\\\\n",
       "\t.sigma &  0.44114971 &  0.47767096\\\\\n",
       "\t(Intercept) & -0.17106716 & -0.07078393\\\\\n",
       "\tagesix & -0.02338504 &  0.08626425\\\\\n",
       "\tagethree & -0.07197487 &  0.04678563\\\\\n",
       "\tND & -0.01388146 &  0.06759128\\\\\n",
       "\tagesix:ND & -0.03676578 &  0.04712427\\\\\n",
       "\tagethree:ND & -0.06605247 &  0.03139295\\\\\n",
       "\\end{tabular}\n"
      ],
      "text/markdown": [
       "\n",
       "| <!--/--> | 2.5 % | 97.5 % |\n",
       "|---|---|---|\n",
       "| .sig01 |  0.42740947 |  0.48528862 |\n",
       "| .sigma |  0.44114971 |  0.47767096 |\n",
       "| (Intercept) | -0.17106716 | -0.07078393 |\n",
       "| agesix | -0.02338504 |  0.08626425 |\n",
       "| agethree | -0.07197487 |  0.04678563 |\n",
       "| ND | -0.01388146 |  0.06759128 |\n",
       "| agesix:ND | -0.03676578 |  0.04712427 |\n",
       "| agethree:ND | -0.06605247 |  0.03139295 |\n",
       "\n"
      ],
      "text/plain": [
       "            2.5 %       97.5 %     \n",
       ".sig01       0.42740947  0.48528862\n",
       ".sigma       0.44114971  0.47767096\n",
       "(Intercept) -0.17106716 -0.07078393\n",
       "agesix      -0.02338504  0.08626425\n",
       "agethree    -0.07197487  0.04678563\n",
       "ND          -0.01388146  0.06759128\n",
       "agesix:ND   -0.03676578  0.04712427\n",
       "agethree:ND -0.06605247  0.03139295"
      ]
     },
     "metadata": {},
     "output_type": "display_data"
    }
   ],
   "source": [
    "confint(multi.mixed.nd)"
   ]
  },
  {
   "cell_type": "code",
   "execution_count": 30,
   "metadata": {},
   "outputs": [
    {
     "name": "stderr",
     "output_type": "stream",
     "text": [
      "Computing profile confidence intervals ...\n"
     ]
    }
   ],
   "source": [
    "write.csv( summary(multi.mixed.nd)$coefficients,paste(tables,\"multi_tables/multi_mixed_nd.cvc\",sep=\"\"))\n",
    "write.csv(confint(multi.mixed.nd),paste(tables,\"multi_tables/multi_mixed_nd_confint.csv\",sep=\"\"))"
   ]
  }
 ],
 "metadata": {
  "kernelspec": {
   "display_name": "R",
   "language": "R",
   "name": "ir"
  },
  "language_info": {
   "codemirror_mode": "r",
   "file_extension": ".r",
   "mimetype": "text/x-r-source",
   "name": "R",
   "pygments_lexer": "r",
   "version": "3.6.1"
  }
 },
 "nbformat": 4,
 "nbformat_minor": 4
}
