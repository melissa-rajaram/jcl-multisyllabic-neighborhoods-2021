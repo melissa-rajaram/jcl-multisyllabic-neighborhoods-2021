{
 "cells": [
  {
   "cell_type": "markdown",
   "metadata": {},
   "source": [
    "# CVC Analysis: Mixed Models"
   ]
  },
  {
   "cell_type": "markdown",
   "metadata": {},
   "source": [
    "Note that this notebook uses an R kernel for computation. \n",
    "\n",
    "This notebook calculates mixed models for the CVC neighborhood measures in separated models (ie. one per neighborhood measure, across age). Prints the output of the model, and the confidence intervals of the estimates to files for processing in a different python notebook. "
   ]
  },
  {
   "cell_type": "markdown",
   "metadata": {},
   "source": [
    "## Data Loading"
   ]
  },
  {
   "cell_type": "code",
   "execution_count": 1,
   "metadata": {},
   "outputs": [
    {
     "name": "stderr",
     "output_type": "stream",
     "text": [
      "Loading required package: Matrix\n",
      "Registered S3 methods overwritten by 'ggplot2':\n",
      "  method         from \n",
      "  [.quosures     rlang\n",
      "  c.quosures     rlang\n",
      "  print.quosures rlang\n",
      "\n",
      "Attaching package: ‘lmerTest’\n",
      "\n",
      "The following object is masked from ‘package:lme4’:\n",
      "\n",
      "    lmer\n",
      "\n",
      "The following object is masked from ‘package:stats’:\n",
      "\n",
      "    step\n",
      "\n"
     ]
    }
   ],
   "source": [
    "# requires memisc, lme4 and lmerTest to already be installed, use \"install.packages('')\" as needed\n",
    "setwd(\"~/Dropbox/experiments/python/current_projects/jcl_multisyllabic_neighborhoods_2021/figures_and_statistics\")\n",
    "library(\"lme4\")\n",
    "library(\"lmerTest\")\n",
    "#library(\"memisc\")"
   ]
  },
  {
   "cell_type": "markdown",
   "metadata": {},
   "source": [
    "Load the cvc data"
   ]
  },
  {
   "cell_type": "code",
   "execution_count": 2,
   "metadata": {},
   "outputs": [],
   "source": [
    "datadir = \"~/Dropbox/experiments/python/current_projects/jcl_multisyllabic_neighborhoods_2021/data/combined/\"\n",
    "tables = \"~/Dropbox/experiments/python/current_projects/jcl_multisyllabic_neighborhoods_2021/data/table_data/\"\n",
    "cvc <- read.csv(paste(datadir,\"cvc_mixed_nomelt.csv\",sep=\"\"))"
   ]
  },
  {
   "cell_type": "markdown",
   "metadata": {},
   "source": [
    "# CVC Mixed Models"
   ]
  },
  {
   "cell_type": "markdown",
   "metadata": {},
   "source": [
    "## SOND"
   ]
  },
  {
   "cell_type": "code",
   "execution_count": 3,
   "metadata": {},
   "outputs": [],
   "source": [
    "cvc.mixed.sond <- lmer(PACT ~ age * SOND + (1|phonological),data = cvc)"
   ]
  },
  {
   "cell_type": "code",
   "execution_count": 4,
   "metadata": {},
   "outputs": [
    {
     "data": {
      "text/plain": [
       "Linear mixed model fit by REML. t-tests use Satterthwaite's method [\n",
       "lmerModLmerTest]\n",
       "Formula: PACT ~ age * SOND + (1 | phonological)\n",
       "   Data: cvc\n",
       "\n",
       "REML criterion at convergence: 2288.4\n",
       "\n",
       "Scaled residuals: \n",
       "    Min      1Q  Median      3Q     Max \n",
       "-3.0602 -0.4389  0.0184  0.4716  3.4821 \n",
       "\n",
       "Random effects:\n",
       " Groups       Name        Variance Std.Dev.\n",
       " phonological (Intercept) 0.276    0.5254  \n",
       " Residual                 0.189    0.4348  \n",
       "Number of obs: 1262, groups:  phonological, 539\n",
       "\n",
       "Fixed effects:\n",
       "                Estimate Std. Error         df t value Pr(>|t|)   \n",
       "(Intercept)   -1.148e-01  5.395e-02  1.164e+03  -2.128  0.03354 * \n",
       "agesix         1.721e-01  5.369e-02  8.085e+02   3.205  0.00141 **\n",
       "agethree       1.090e-01  5.327e-02  7.816e+02   2.047  0.04099 * \n",
       "SOND           1.952e-02  7.879e-03  1.225e+03   2.478  0.01336 * \n",
       "agesix:SOND   -1.839e-02  7.311e-03  8.680e+02  -2.515  0.01207 * \n",
       "agethree:SOND -1.148e-02  8.007e-03  7.810e+02  -1.434  0.15193   \n",
       "---\n",
       "Signif. codes:  0 ‘***’ 0.001 ‘**’ 0.01 ‘*’ 0.05 ‘.’ 0.1 ‘ ’ 1\n",
       "\n",
       "Correlation of Fixed Effects:\n",
       "            (Intr) agesix agethr SOND   ags:SOND\n",
       "agesix      -0.548                              \n",
       "agethree    -0.551  0.521                       \n",
       "SOND        -0.797  0.452  0.467                \n",
       "agesix:SOND  0.584 -0.794 -0.474 -0.734         \n",
       "agethr:SOND  0.438 -0.418 -0.796 -0.550  0.572  "
      ]
     },
     "metadata": {},
     "output_type": "display_data"
    }
   ],
   "source": [
    "summary(cvc.mixed.sond)"
   ]
  },
  {
   "cell_type": "code",
   "execution_count": 5,
   "metadata": {},
   "outputs": [
    {
     "name": "stderr",
     "output_type": "stream",
     "text": [
      "Computing profile confidence intervals ...\n"
     ]
    },
    {
     "data": {
      "text/html": [
       "<table>\n",
       "<thead><tr><th></th><th scope=col>2.5 %</th><th scope=col>97.5 %</th></tr></thead>\n",
       "<tbody>\n",
       "\t<tr><th scope=row>.sig01</th><td> 0.484133496</td><td> 0.568036105</td></tr>\n",
       "\t<tr><th scope=row>.sigma</th><td> 0.412404166</td><td> 0.456609587</td></tr>\n",
       "\t<tr><th scope=row>(Intercept)</th><td>-0.220464819</td><td>-0.009244458</td></tr>\n",
       "\t<tr><th scope=row>agesix</th><td> 0.066891850</td><td> 0.277121545</td></tr>\n",
       "\t<tr><th scope=row>agethree</th><td> 0.004808537</td><td> 0.213312292</td></tr>\n",
       "\t<tr><th scope=row>SOND</th><td> 0.004094482</td><td> 0.034939081</td></tr>\n",
       "\t<tr><th scope=row>agesix:SOND</th><td>-0.032698112</td><td>-0.004084807</td></tr>\n",
       "\t<tr><th scope=row>agethree:SOND</th><td>-0.027154775</td><td> 0.004186053</td></tr>\n",
       "</tbody>\n",
       "</table>\n"
      ],
      "text/latex": [
       "\\begin{tabular}{r|ll}\n",
       "  & 2.5 \\% & 97.5 \\%\\\\\n",
       "\\hline\n",
       "\t.sig01 &  0.484133496 &  0.568036105\\\\\n",
       "\t.sigma &  0.412404166 &  0.456609587\\\\\n",
       "\t(Intercept) & -0.220464819 & -0.009244458\\\\\n",
       "\tagesix &  0.066891850 &  0.277121545\\\\\n",
       "\tagethree &  0.004808537 &  0.213312292\\\\\n",
       "\tSOND &  0.004094482 &  0.034939081\\\\\n",
       "\tagesix:SOND & -0.032698112 & -0.004084807\\\\\n",
       "\tagethree:SOND & -0.027154775 &  0.004186053\\\\\n",
       "\\end{tabular}\n"
      ],
      "text/markdown": [
       "\n",
       "| <!--/--> | 2.5 % | 97.5 % |\n",
       "|---|---|---|\n",
       "| .sig01 |  0.484133496 |  0.568036105 |\n",
       "| .sigma |  0.412404166 |  0.456609587 |\n",
       "| (Intercept) | -0.220464819 | -0.009244458 |\n",
       "| agesix |  0.066891850 |  0.277121545 |\n",
       "| agethree |  0.004808537 |  0.213312292 |\n",
       "| SOND |  0.004094482 |  0.034939081 |\n",
       "| agesix:SOND | -0.032698112 | -0.004084807 |\n",
       "| agethree:SOND | -0.027154775 |  0.004186053 |\n",
       "\n"
      ],
      "text/plain": [
       "              2.5 %        97.5 %      \n",
       ".sig01         0.484133496  0.568036105\n",
       ".sigma         0.412404166  0.456609587\n",
       "(Intercept)   -0.220464819 -0.009244458\n",
       "agesix         0.066891850  0.277121545\n",
       "agethree       0.004808537  0.213312292\n",
       "SOND           0.004094482  0.034939081\n",
       "agesix:SOND   -0.032698112 -0.004084807\n",
       "agethree:SOND -0.027154775  0.004186053"
      ]
     },
     "metadata": {},
     "output_type": "display_data"
    }
   ],
   "source": [
    "confint(cvc.mixed.sond)"
   ]
  },
  {
   "cell_type": "code",
   "execution_count": 6,
   "metadata": {},
   "outputs": [],
   "source": [
    "write.csv(summary(cvc.mixed.sond)$coefficients,paste(tables,\"cvc_tables/cvc_mixed_sond.cvc\",sep=\"\"))"
   ]
  },
  {
   "cell_type": "code",
   "execution_count": 7,
   "metadata": {},
   "outputs": [
    {
     "name": "stderr",
     "output_type": "stream",
     "text": [
      "Computing profile confidence intervals ...\n"
     ]
    }
   ],
   "source": [
    "write.csv(confint(cvc.mixed.sond),paste(tables,\"cvc_tables/cvc_mixed_sond_confint.csv\",sep=\"\"))"
   ]
  },
  {
   "cell_type": "markdown",
   "metadata": {},
   "source": [
    "## PLD20"
   ]
  },
  {
   "cell_type": "code",
   "execution_count": 8,
   "metadata": {},
   "outputs": [],
   "source": [
    "cvc.mixed.pld20 <- lmer(PACT ~ age * PLD20 + (1|phonological),data = cvc)"
   ]
  },
  {
   "cell_type": "code",
   "execution_count": 9,
   "metadata": {},
   "outputs": [
    {
     "data": {
      "text/plain": [
       "Linear mixed model fit by REML. t-tests use Satterthwaite's method [\n",
       "lmerModLmerTest]\n",
       "Formula: PACT ~ age * PLD20 + (1 | phonological)\n",
       "   Data: cvc\n",
       "\n",
       "REML criterion at convergence: 2267.4\n",
       "\n",
       "Scaled residuals: \n",
       "    Min      1Q  Median      3Q     Max \n",
       "-3.0545 -0.4501  0.0313  0.4749  3.5936 \n",
       "\n",
       "Random effects:\n",
       " Groups       Name        Variance Std.Dev.\n",
       " phonological (Intercept) 0.2701   0.5197  \n",
       " Residual                 0.1904   0.4364  \n",
       "Number of obs: 1262, groups:  phonological, 539\n",
       "\n",
       "Fixed effects:\n",
       "                 Estimate Std. Error         df t value Pr(>|t|)  \n",
       "(Intercept)       0.55424    0.26010 1218.79214   2.131   0.0333 *\n",
       "agesix           -0.04620    0.24505  829.70160  -0.189   0.8505  \n",
       "agethree          0.25601    0.27696  776.11419   0.924   0.3556  \n",
       "PLD20            -0.35000    0.16105 1223.45752  -2.173   0.0300 *\n",
       "agesix:PLD20      0.06068    0.15429  821.12611   0.393   0.6942  \n",
       "agethree:PLD20   -0.12757    0.17113  777.30831  -0.745   0.4562  \n",
       "---\n",
       "Signif. codes:  0 ‘***’ 0.001 ‘**’ 0.01 ‘*’ 0.05 ‘.’ 0.1 ‘ ’ 1\n",
       "\n",
       "Correlation of Fixed Effects:\n",
       "            (Intr) agesix agethr PLD20  ags:PLD20\n",
       "agesix      -0.681                               \n",
       "agethree    -0.491  0.522                        \n",
       "PLD20       -0.992  0.679  0.489                 \n",
       "agesx:PLD20  0.648 -0.991 -0.512 -0.655          \n",
       "agthr:PLD20  0.494 -0.522 -0.993 -0.499  0.519   "
      ]
     },
     "metadata": {},
     "output_type": "display_data"
    }
   ],
   "source": [
    "summary(cvc.mixed.pld20)"
   ]
  },
  {
   "cell_type": "code",
   "execution_count": 20,
   "metadata": {},
   "outputs": [
    {
     "name": "stderr",
     "output_type": "stream",
     "text": [
      "Computing profile confidence intervals ...\n"
     ]
    },
    {
     "data": {
      "text/html": [
       "<table>\n",
       "<thead><tr><th></th><th scope=col>2.5 %</th><th scope=col>97.5 %</th></tr></thead>\n",
       "<tbody>\n",
       "\t<tr><th scope=row>.sig01</th><td> 0.47856304</td><td> 0.56222980</td></tr>\n",
       "\t<tr><th scope=row>.sigma</th><td> 0.41390871</td><td> 0.45827887</td></tr>\n",
       "\t<tr><th scope=row>(Intercept)</th><td> 0.04416093</td><td> 1.06341418</td></tr>\n",
       "\t<tr><th scope=row>agesix</th><td>-0.52591685</td><td> 0.43328802</td></tr>\n",
       "\t<tr><th scope=row>agethree</th><td>-0.28605411</td><td> 0.79799172</td></tr>\n",
       "\t<tr><th scope=row>PLD20</th><td>-0.66523030</td><td>-0.03429543</td></tr>\n",
       "\t<tr><th scope=row>agesix:PLD20</th><td>-0.24122494</td><td> 0.36265078</td></tr>\n",
       "\t<tr><th scope=row>agethree:PLD20</th><td>-0.46245639</td><td> 0.20738580</td></tr>\n",
       "</tbody>\n",
       "</table>\n"
      ],
      "text/latex": [
       "\\begin{tabular}{r|ll}\n",
       "  & 2.5 \\% & 97.5 \\%\\\\\n",
       "\\hline\n",
       "\t.sig01 &  0.47856304 &  0.56222980\\\\\n",
       "\t.sigma &  0.41390871 &  0.45827887\\\\\n",
       "\t(Intercept) &  0.04416093 &  1.06341418\\\\\n",
       "\tagesix & -0.52591685 &  0.43328802\\\\\n",
       "\tagethree & -0.28605411 &  0.79799172\\\\\n",
       "\tPLD20 & -0.66523030 & -0.03429543\\\\\n",
       "\tagesix:PLD20 & -0.24122494 &  0.36265078\\\\\n",
       "\tagethree:PLD20 & -0.46245639 &  0.20738580\\\\\n",
       "\\end{tabular}\n"
      ],
      "text/markdown": [
       "\n",
       "| <!--/--> | 2.5 % | 97.5 % |\n",
       "|---|---|---|\n",
       "| .sig01 |  0.47856304 |  0.56222980 |\n",
       "| .sigma |  0.41390871 |  0.45827887 |\n",
       "| (Intercept) |  0.04416093 |  1.06341418 |\n",
       "| agesix | -0.52591685 |  0.43328802 |\n",
       "| agethree | -0.28605411 |  0.79799172 |\n",
       "| PLD20 | -0.66523030 | -0.03429543 |\n",
       "| agesix:PLD20 | -0.24122494 |  0.36265078 |\n",
       "| agethree:PLD20 | -0.46245639 |  0.20738580 |\n",
       "\n"
      ],
      "text/plain": [
       "               2.5 %       97.5 %     \n",
       ".sig01          0.47856304  0.56222980\n",
       ".sigma          0.41390871  0.45827887\n",
       "(Intercept)     0.04416093  1.06341418\n",
       "agesix         -0.52591685  0.43328802\n",
       "agethree       -0.28605411  0.79799172\n",
       "PLD20          -0.66523030 -0.03429543\n",
       "agesix:PLD20   -0.24122494  0.36265078\n",
       "agethree:PLD20 -0.46245639  0.20738580"
      ]
     },
     "metadata": {},
     "output_type": "display_data"
    }
   ],
   "source": [
    "confint(cvc.mixed.pld20)"
   ]
  },
  {
   "cell_type": "code",
   "execution_count": 10,
   "metadata": {},
   "outputs": [],
   "source": [
    "write.csv( summary(cvc.mixed.pld20)$coefficients,paste(tables,\"cvc_tables/cvc_mixed_pld20.cvc\",sep=\"\"))"
   ]
  },
  {
   "cell_type": "code",
   "execution_count": 11,
   "metadata": {},
   "outputs": [
    {
     "name": "stderr",
     "output_type": "stream",
     "text": [
      "Computing profile confidence intervals ...\n"
     ]
    }
   ],
   "source": [
    "write.csv(confint(cvc.mixed.pld20),paste(tables,\"cvc_tables/cvc_mixed_pld20_confint.csv\",sep=\"\"))"
   ]
  },
  {
   "cell_type": "markdown",
   "metadata": {},
   "source": [
    "## PFEAT20"
   ]
  },
  {
   "cell_type": "code",
   "execution_count": 12,
   "metadata": {},
   "outputs": [],
   "source": [
    "cvc.mixed.pfeat20 <- lmer(PACT ~ age * PFEAT20 + (1|phonological),data = cvc)"
   ]
  },
  {
   "cell_type": "code",
   "execution_count": 13,
   "metadata": {},
   "outputs": [
    {
     "data": {
      "text/plain": [
       "Linear mixed model fit by REML. t-tests use Satterthwaite's method [\n",
       "lmerModLmerTest]\n",
       "Formula: PACT ~ age * PFEAT20 + (1 | phonological)\n",
       "   Data: cvc\n",
       "\n",
       "REML criterion at convergence: 2270.9\n",
       "\n",
       "Scaled residuals: \n",
       "    Min      1Q  Median      3Q     Max \n",
       "-3.0570 -0.4492  0.0293  0.4900  3.6025 \n",
       "\n",
       "Random effects:\n",
       " Groups       Name        Variance Std.Dev.\n",
       " phonological (Intercept) 0.2731   0.5226  \n",
       " Residual                 0.1904   0.4364  \n",
       "Number of obs: 1262, groups:  phonological, 539\n",
       "\n",
       "Fixed effects:\n",
       "                   Estimate Std. Error         df t value Pr(>|t|)  \n",
       "(Intercept)         0.28516    0.16986 1146.30245   1.679   0.0935 .\n",
       "agesix              0.04817    0.16834  817.19077   0.286   0.7748  \n",
       "agethree            0.08928    0.17146  778.29561   0.521   0.6027  \n",
       "PFEAT20            -0.31573    0.18000 1158.06750  -1.754   0.0797 .\n",
       "agesix:PFEAT20      0.01320    0.18313  823.78343   0.072   0.9425  \n",
       "agethree:PFEAT20   -0.04659    0.18196  778.97356  -0.256   0.7980  \n",
       "---\n",
       "Signif. codes:  0 ‘***’ 0.001 ‘**’ 0.01 ‘*’ 0.05 ‘.’ 0.1 ‘ ’ 1\n",
       "\n",
       "Correlation of Fixed Effects:\n",
       "            (Intr) agesix agethr PFEAT2 ags:PFEAT20\n",
       "agesix      -0.550                                 \n",
       "agethree    -0.514  0.510                          \n",
       "PFEAT20     -0.981  0.544  0.507                   \n",
       "ags:PFEAT20  0.505 -0.982 -0.489 -0.518            \n",
       "agt:PFEAT20  0.509 -0.502 -0.982 -0.521  0.499     "
      ]
     },
     "metadata": {},
     "output_type": "display_data"
    }
   ],
   "source": [
    "summary(cvc.mixed.pfeat20)"
   ]
  },
  {
   "cell_type": "code",
   "execution_count": 21,
   "metadata": {},
   "outputs": [
    {
     "name": "stderr",
     "output_type": "stream",
     "text": [
      "Computing profile confidence intervals ...\n"
     ]
    },
    {
     "data": {
      "text/html": [
       "<table>\n",
       "<thead><tr><th></th><th scope=col>2.5 %</th><th scope=col>97.5 %</th></tr></thead>\n",
       "<tbody>\n",
       "\t<tr><th scope=row>.sig01</th><td> 0.48126443</td><td>0.56510475 </td></tr>\n",
       "\t<tr><th scope=row>.sigma</th><td> 0.41395350</td><td>0.45831867 </td></tr>\n",
       "\t<tr><th scope=row>(Intercept)</th><td>-0.04786248</td><td>0.61758497 </td></tr>\n",
       "\t<tr><th scope=row>agesix</th><td>-0.28134563</td><td>0.37758825 </td></tr>\n",
       "\t<tr><th scope=row>agethree</th><td>-0.24634813</td><td>0.42481336 </td></tr>\n",
       "\t<tr><th scope=row>PFEAT20</th><td>-0.66796654</td><td>0.03696169 </td></tr>\n",
       "\t<tr><th scope=row>agesix:PFEAT20</th><td>-0.34521453</td><td>0.37158471 </td></tr>\n",
       "\t<tr><th scope=row>agethree:PFEAT20</th><td>-0.40265730</td><td>0.30960125 </td></tr>\n",
       "</tbody>\n",
       "</table>\n"
      ],
      "text/latex": [
       "\\begin{tabular}{r|ll}\n",
       "  & 2.5 \\% & 97.5 \\%\\\\\n",
       "\\hline\n",
       "\t.sig01 &  0.48126443 & 0.56510475 \\\\\n",
       "\t.sigma &  0.41395350 & 0.45831867 \\\\\n",
       "\t(Intercept) & -0.04786248 & 0.61758497 \\\\\n",
       "\tagesix & -0.28134563 & 0.37758825 \\\\\n",
       "\tagethree & -0.24634813 & 0.42481336 \\\\\n",
       "\tPFEAT20 & -0.66796654 & 0.03696169 \\\\\n",
       "\tagesix:PFEAT20 & -0.34521453 & 0.37158471 \\\\\n",
       "\tagethree:PFEAT20 & -0.40265730 & 0.30960125 \\\\\n",
       "\\end{tabular}\n"
      ],
      "text/markdown": [
       "\n",
       "| <!--/--> | 2.5 % | 97.5 % |\n",
       "|---|---|---|\n",
       "| .sig01 |  0.48126443 | 0.56510475  |\n",
       "| .sigma |  0.41395350 | 0.45831867  |\n",
       "| (Intercept) | -0.04786248 | 0.61758497  |\n",
       "| agesix | -0.28134563 | 0.37758825  |\n",
       "| agethree | -0.24634813 | 0.42481336  |\n",
       "| PFEAT20 | -0.66796654 | 0.03696169  |\n",
       "| agesix:PFEAT20 | -0.34521453 | 0.37158471  |\n",
       "| agethree:PFEAT20 | -0.40265730 | 0.30960125  |\n",
       "\n"
      ],
      "text/plain": [
       "                 2.5 %       97.5 %    \n",
       ".sig01            0.48126443 0.56510475\n",
       ".sigma            0.41395350 0.45831867\n",
       "(Intercept)      -0.04786248 0.61758497\n",
       "agesix           -0.28134563 0.37758825\n",
       "agethree         -0.24634813 0.42481336\n",
       "PFEAT20          -0.66796654 0.03696169\n",
       "agesix:PFEAT20   -0.34521453 0.37158471\n",
       "agethree:PFEAT20 -0.40265730 0.30960125"
      ]
     },
     "metadata": {},
     "output_type": "display_data"
    }
   ],
   "source": [
    "confint(cvc.mixed.pfeat20)"
   ]
  },
  {
   "cell_type": "code",
   "execution_count": 14,
   "metadata": {},
   "outputs": [],
   "source": [
    "write.csv( summary(cvc.mixed.pfeat20)$coefficients,paste(tables,\"cvc_tables/cvc_mixed_pfeat20.cvc\",sep=\"\"))"
   ]
  },
  {
   "cell_type": "code",
   "execution_count": 15,
   "metadata": {},
   "outputs": [
    {
     "name": "stderr",
     "output_type": "stream",
     "text": [
      "Computing profile confidence intervals ...\n"
     ]
    }
   ],
   "source": [
    "write.csv(confint(cvc.mixed.pfeat20),paste(tables,\"cvc_tables/cvc_mixed_pfeat20_confint.csv\",sep=\"\"))"
   ]
  },
  {
   "cell_type": "markdown",
   "metadata": {},
   "source": [
    "## ND"
   ]
  },
  {
   "cell_type": "code",
   "execution_count": 16,
   "metadata": {},
   "outputs": [],
   "source": [
    "cvc.mixed.nd <- lmer(PACT ~ age * ND + (1|phonological),data = cvc)"
   ]
  },
  {
   "cell_type": "code",
   "execution_count": 17,
   "metadata": {},
   "outputs": [
    {
     "data": {
      "text/plain": [
       "Linear mixed model fit by REML. t-tests use Satterthwaite's method [\n",
       "lmerModLmerTest]\n",
       "Formula: PACT ~ age * ND + (1 | phonological)\n",
       "   Data: cvc\n",
       "\n",
       "REML criterion at convergence: 2285.8\n",
       "\n",
       "Scaled residuals: \n",
       "    Min      1Q  Median      3Q     Max \n",
       "-3.0524 -0.4491  0.0318  0.4747  3.5945 \n",
       "\n",
       "Random effects:\n",
       " Groups       Name        Variance Std.Dev.\n",
       " phonological (Intercept) 0.2703   0.5199  \n",
       " Residual                 0.1904   0.4364  \n",
       "Number of obs: 1262, groups:  phonological, 539\n",
       "\n",
       "Fixed effects:\n",
       "              Estimate Std. Error         df t value Pr(>|t|)  \n",
       "(Intercept) -1.437e-01  7.154e-02  1.203e+03  -2.009   0.0448 *\n",
       "agesix       7.523e-02  7.295e-02  8.168e+02   1.031   0.3027  \n",
       "agethree     4.393e-03  7.425e-02  7.830e+02   0.059   0.9528  \n",
       "ND           1.725e-02  8.020e-03  1.222e+03   2.151   0.0317 *\n",
       "agesix:ND   -3.003e-03  7.671e-03  8.200e+02  -0.391   0.6955  \n",
       "agethree:ND  5.935e-03  8.513e-03  7.766e+02   0.697   0.4859  \n",
       "---\n",
       "Signif. codes:  0 ‘***’ 0.001 ‘**’ 0.01 ‘*’ 0.05 ‘.’ 0.1 ‘ ’ 1\n",
       "\n",
       "Correlation of Fixed Effects:\n",
       "            (Intr) agesix agethr ND     ags:ND\n",
       "agesix      -0.545                            \n",
       "agethree    -0.524  0.496                     \n",
       "ND          -0.891  0.486  0.474              \n",
       "agesix:ND    0.590 -0.895 -0.479 -0.655       \n",
       "agethree:ND  0.449 -0.437 -0.900 -0.498  0.518"
      ]
     },
     "metadata": {},
     "output_type": "display_data"
    }
   ],
   "source": [
    "summary(cvc.mixed.nd)"
   ]
  },
  {
   "cell_type": "code",
   "execution_count": 22,
   "metadata": {},
   "outputs": [
    {
     "name": "stderr",
     "output_type": "stream",
     "text": [
      "Computing profile confidence intervals ...\n"
     ]
    },
    {
     "data": {
      "text/html": [
       "<table>\n",
       "<thead><tr><th></th><th scope=col>2.5 %</th><th scope=col>97.5 %</th></tr></thead>\n",
       "<tbody>\n",
       "\t<tr><th scope=row>.sig01</th><td> 0.478764668</td><td> 0.562443329</td></tr>\n",
       "\t<tr><th scope=row>.sigma</th><td> 0.413929686</td><td> 0.458300498</td></tr>\n",
       "\t<tr><th scope=row>(Intercept)</th><td>-0.283707838</td><td>-0.003660371</td></tr>\n",
       "\t<tr><th scope=row>agesix</th><td>-0.067612160</td><td> 0.217971704</td></tr>\n",
       "\t<tr><th scope=row>agethree</th><td>-0.140888006</td><td> 0.149732213</td></tr>\n",
       "\t<tr><th scope=row>ND</th><td> 0.001528218</td><td> 0.032945130</td></tr>\n",
       "\t<tr><th scope=row>agesix:ND</th><td>-0.018016915</td><td> 0.012007251</td></tr>\n",
       "\t<tr><th scope=row>agethree:ND</th><td>-0.010727379</td><td> 0.022594271</td></tr>\n",
       "</tbody>\n",
       "</table>\n"
      ],
      "text/latex": [
       "\\begin{tabular}{r|ll}\n",
       "  & 2.5 \\% & 97.5 \\%\\\\\n",
       "\\hline\n",
       "\t.sig01 &  0.478764668 &  0.562443329\\\\\n",
       "\t.sigma &  0.413929686 &  0.458300498\\\\\n",
       "\t(Intercept) & -0.283707838 & -0.003660371\\\\\n",
       "\tagesix & -0.067612160 &  0.217971704\\\\\n",
       "\tagethree & -0.140888006 &  0.149732213\\\\\n",
       "\tND &  0.001528218 &  0.032945130\\\\\n",
       "\tagesix:ND & -0.018016915 &  0.012007251\\\\\n",
       "\tagethree:ND & -0.010727379 &  0.022594271\\\\\n",
       "\\end{tabular}\n"
      ],
      "text/markdown": [
       "\n",
       "| <!--/--> | 2.5 % | 97.5 % |\n",
       "|---|---|---|\n",
       "| .sig01 |  0.478764668 |  0.562443329 |\n",
       "| .sigma |  0.413929686 |  0.458300498 |\n",
       "| (Intercept) | -0.283707838 | -0.003660371 |\n",
       "| agesix | -0.067612160 |  0.217971704 |\n",
       "| agethree | -0.140888006 |  0.149732213 |\n",
       "| ND |  0.001528218 |  0.032945130 |\n",
       "| agesix:ND | -0.018016915 |  0.012007251 |\n",
       "| agethree:ND | -0.010727379 |  0.022594271 |\n",
       "\n"
      ],
      "text/plain": [
       "            2.5 %        97.5 %      \n",
       ".sig01       0.478764668  0.562443329\n",
       ".sigma       0.413929686  0.458300498\n",
       "(Intercept) -0.283707838 -0.003660371\n",
       "agesix      -0.067612160  0.217971704\n",
       "agethree    -0.140888006  0.149732213\n",
       "ND           0.001528218  0.032945130\n",
       "agesix:ND   -0.018016915  0.012007251\n",
       "agethree:ND -0.010727379  0.022594271"
      ]
     },
     "metadata": {},
     "output_type": "display_data"
    }
   ],
   "source": [
    "confint(cvc.mixed.nd)"
   ]
  },
  {
   "cell_type": "code",
   "execution_count": 18,
   "metadata": {},
   "outputs": [],
   "source": [
    "write.csv( summary(cvc.mixed.nd)$coefficients,paste(tables,\"cvc_tables/cvc_mixed_nd.cvc\",sep=\"\"))"
   ]
  },
  {
   "cell_type": "code",
   "execution_count": 19,
   "metadata": {},
   "outputs": [
    {
     "name": "stderr",
     "output_type": "stream",
     "text": [
      "Computing profile confidence intervals ...\n"
     ]
    }
   ],
   "source": [
    "write.csv(confint(cvc.mixed.nd),paste(tables,\"cvc_tables/cvc_mixed_nd_confint.csv\",sep=\"\"))"
   ]
  },
  {
   "cell_type": "code",
   "execution_count": null,
   "metadata": {},
   "outputs": [],
   "source": []
  }
 ],
 "metadata": {
  "kernelspec": {
   "display_name": "R",
   "language": "R",
   "name": "ir"
  },
  "language_info": {
   "codemirror_mode": "r",
   "file_extension": ".r",
   "mimetype": "text/x-r-source",
   "name": "R",
   "pygments_lexer": "r",
   "version": "3.6.1"
  }
 },
 "nbformat": 4,
 "nbformat_minor": 4
}
