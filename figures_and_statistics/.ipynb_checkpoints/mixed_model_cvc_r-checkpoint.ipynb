{
 "cells": [
  {
   "cell_type": "markdown",
   "metadata": {},
   "source": [
    "# CVC Analysis: Mixed Models and Multiple Regression"
   ]
  },
  {
   "cell_type": "markdown",
   "metadata": {},
   "source": [
    "This notebook calculates mixed and linear models for the CVC neighborhood measures in separated models (ie. one per neighborhood measure, across age). Prints the output of the model, and the confidence intervals of the estimates to files for processing in a python notebook. "
   ]
  },
  {
   "cell_type": "markdown",
   "metadata": {},
   "source": [
    "## Data Loading"
   ]
  },
  {
   "cell_type": "code",
   "execution_count": 1,
   "metadata": {},
   "outputs": [
    {
     "ename": "ERROR",
     "evalue": "Error in setwd(\"~/Dropbox/experiments/python/current_projects/jcl_multisyllabic_neighborhoods_2021/tables_and_figures/main_article/\"): cannot change working directory\n",
     "output_type": "error",
     "traceback": [
      "Error in setwd(\"~/Dropbox/experiments/python/current_projects/jcl_multisyllabic_neighborhoods_2021/tables_and_figures/main_article/\"): cannot change working directory\nTraceback:\n",
      "1. setwd(\"~/Dropbox/experiments/python/current_projects/jcl_multisyllabic_neighborhoods_2021/tables_and_figures/main_article/\")"
     ]
    }
   ],
   "source": [
    "# requires memisc, lme4 and lmerTest to already be installed, use \"install.packages('')\" as needed\n",
    "setwd(\"~/Dropbox/experiments/python/current_projects/jcl_multisyllabic_neighborhoods_2021/tables_and_figures/main_article/\")\n",
    "library(\"lme4\")\n",
    "library(\"lmerTest\")\n",
    "#library(\"memisc\")"
   ]
  },
  {
   "cell_type": "markdown",
   "metadata": {},
   "source": [
    "Load the cvc data"
   ]
  },
  {
   "cell_type": "code",
   "execution_count": 2,
   "metadata": {},
   "outputs": [],
   "source": [
    "datadir_valid = \"~/Dropbox/experiments/python/current_projects/jcl_multisyllabic_neighborhoods_2021/data/validation/combined/\"\n",
    "cvc <- read.csv(paste(datadir_valid,\"cvc_mixed_nomelt.csv\",sep=\"\"))"
   ]
  },
  {
   "cell_type": "markdown",
   "metadata": {
    "heading_collapsed": true
   },
   "source": [
    "# CVC Mixed Models"
   ]
  },
  {
   "cell_type": "markdown",
   "metadata": {
    "hidden": true
   },
   "source": [
    "## SOND"
   ]
  },
  {
   "cell_type": "code",
   "execution_count": 3,
   "metadata": {
    "hidden": true
   },
   "outputs": [],
   "source": [
    "cvc.mixed.sond <- lmer(PACT ~ age * SOND + (1|phonological),data = cvc)"
   ]
  },
  {
   "cell_type": "code",
   "execution_count": 4,
   "metadata": {
    "hidden": true
   },
   "outputs": [
    {
     "data": {
      "text/plain": [
       "Linear mixed model fit by REML. t-tests use Satterthwaite's method [\n",
       "lmerModLmerTest]\n",
       "Formula: PACT ~ age * SOND + (1 | phonological)\n",
       "   Data: cvc\n",
       "\n",
       "REML criterion at convergence: 2288.4\n",
       "\n",
       "Scaled residuals: \n",
       "    Min      1Q  Median      3Q     Max \n",
       "-3.0602 -0.4389  0.0184  0.4716  3.4821 \n",
       "\n",
       "Random effects:\n",
       " Groups       Name        Variance Std.Dev.\n",
       " phonological (Intercept) 0.276    0.5254  \n",
       " Residual                 0.189    0.4348  \n",
       "Number of obs: 1262, groups:  phonological, 539\n",
       "\n",
       "Fixed effects:\n",
       "                Estimate Std. Error         df t value Pr(>|t|)   \n",
       "(Intercept)   -1.148e-01  5.395e-02  1.164e+03  -2.128  0.03354 * \n",
       "agesix         1.721e-01  5.369e-02  8.085e+02   3.205  0.00141 **\n",
       "agethree       1.090e-01  5.327e-02  7.816e+02   2.047  0.04099 * \n",
       "SOND           1.952e-02  7.879e-03  1.225e+03   2.478  0.01336 * \n",
       "agesix:SOND   -1.839e-02  7.311e-03  8.680e+02  -2.515  0.01207 * \n",
       "agethree:SOND -1.148e-02  8.007e-03  7.810e+02  -1.434  0.15193   \n",
       "---\n",
       "Signif. codes:  0 ‘***’ 0.001 ‘**’ 0.01 ‘*’ 0.05 ‘.’ 0.1 ‘ ’ 1\n",
       "\n",
       "Correlation of Fixed Effects:\n",
       "            (Intr) agesix agethr SOND   ags:SOND\n",
       "agesix      -0.548                              \n",
       "agethree    -0.551  0.521                       \n",
       "SOND        -0.797  0.452  0.467                \n",
       "agesix:SOND  0.584 -0.794 -0.474 -0.734         \n",
       "agethr:SOND  0.438 -0.418 -0.796 -0.550  0.572  "
      ]
     },
     "metadata": {},
     "output_type": "display_data"
    }
   ],
   "source": [
    "summary(cvc.mixed.sond)"
   ]
  },
  {
   "cell_type": "code",
   "execution_count": 5,
   "metadata": {
    "hidden": true
   },
   "outputs": [
    {
     "data": {
      "text/html": [
       "<table>\n",
       "<thead><tr><th></th><th scope=col>Sum Sq</th><th scope=col>Mean Sq</th><th scope=col>NumDF</th><th scope=col>DenDF</th><th scope=col>F value</th><th scope=col>Pr(&gt;F)</th></tr></thead>\n",
       "<tbody>\n",
       "\t<tr><th scope=row>age</th><td>1.9780808 </td><td>0.9890404 </td><td>2         </td><td>804.5955  </td><td>5.232153  </td><td>0.00552528</td></tr>\n",
       "\t<tr><th scope=row>SOND</th><td>0.5533219 </td><td>0.5533219 </td><td>1         </td><td>827.9177  </td><td>2.927145  </td><td>0.08747597</td></tr>\n",
       "\t<tr><th scope=row>age:SOND</th><td>1.1961289 </td><td>0.5980645 </td><td>2         </td><td>840.8101  </td><td>3.163839  </td><td>0.04276678</td></tr>\n",
       "</tbody>\n",
       "</table>\n"
      ],
      "text/latex": [
       "\\begin{tabular}{r|llllll}\n",
       "  & Sum Sq & Mean Sq & NumDF & DenDF & F value & Pr(>F)\\\\\n",
       "\\hline\n",
       "\tage & 1.9780808  & 0.9890404  & 2          & 804.5955   & 5.232153   & 0.00552528\\\\\n",
       "\tSOND & 0.5533219  & 0.5533219  & 1          & 827.9177   & 2.927145   & 0.08747597\\\\\n",
       "\tage:SOND & 1.1961289  & 0.5980645  & 2          & 840.8101   & 3.163839   & 0.04276678\\\\\n",
       "\\end{tabular}\n"
      ],
      "text/markdown": [
       "\n",
       "| <!--/--> | Sum Sq | Mean Sq | NumDF | DenDF | F value | Pr(>F) |\n",
       "|---|---|---|---|---|---|---|\n",
       "| age | 1.9780808  | 0.9890404  | 2          | 804.5955   | 5.232153   | 0.00552528 |\n",
       "| SOND | 0.5533219  | 0.5533219  | 1          | 827.9177   | 2.927145   | 0.08747597 |\n",
       "| age:SOND | 1.1961289  | 0.5980645  | 2          | 840.8101   | 3.163839   | 0.04276678 |\n",
       "\n"
      ],
      "text/plain": [
       "         Sum Sq    Mean Sq   NumDF DenDF    F value  Pr(>F)    \n",
       "age      1.9780808 0.9890404 2     804.5955 5.232153 0.00552528\n",
       "SOND     0.5533219 0.5533219 1     827.9177 2.927145 0.08747597\n",
       "age:SOND 1.1961289 0.5980645 2     840.8101 3.163839 0.04276678"
      ]
     },
     "metadata": {},
     "output_type": "display_data"
    }
   ],
   "source": [
    "anova(cvc.mixed.sond)"
   ]
  },
  {
   "cell_type": "code",
   "execution_count": 49,
   "metadata": {
    "hidden": true
   },
   "outputs": [
    {
     "name": "stderr",
     "output_type": "stream",
     "text": [
      "Computing profile confidence intervals ...\n"
     ]
    },
    {
     "data": {
      "text/html": [
       "<table>\n",
       "<thead><tr><th></th><th scope=col>2.5 %</th><th scope=col>97.5 %</th></tr></thead>\n",
       "<tbody>\n",
       "\t<tr><th scope=row>.sig01</th><td> 0.484133496</td><td> 0.568036105</td></tr>\n",
       "\t<tr><th scope=row>.sigma</th><td> 0.412404166</td><td> 0.456609587</td></tr>\n",
       "\t<tr><th scope=row>(Intercept)</th><td>-0.220464819</td><td>-0.009244458</td></tr>\n",
       "\t<tr><th scope=row>agesix</th><td> 0.066891850</td><td> 0.277121545</td></tr>\n",
       "\t<tr><th scope=row>agethree</th><td> 0.004808537</td><td> 0.213312292</td></tr>\n",
       "\t<tr><th scope=row>SOND</th><td> 0.004094482</td><td> 0.034939081</td></tr>\n",
       "\t<tr><th scope=row>agesix:SOND</th><td>-0.032698112</td><td>-0.004084807</td></tr>\n",
       "\t<tr><th scope=row>agethree:SOND</th><td>-0.027154775</td><td> 0.004186053</td></tr>\n",
       "</tbody>\n",
       "</table>\n"
      ],
      "text/latex": [
       "\\begin{tabular}{r|ll}\n",
       "  & 2.5 \\% & 97.5 \\%\\\\\n",
       "\\hline\n",
       "\t.sig01 &  0.484133496 &  0.568036105\\\\\n",
       "\t.sigma &  0.412404166 &  0.456609587\\\\\n",
       "\t(Intercept) & -0.220464819 & -0.009244458\\\\\n",
       "\tagesix &  0.066891850 &  0.277121545\\\\\n",
       "\tagethree &  0.004808537 &  0.213312292\\\\\n",
       "\tSOND &  0.004094482 &  0.034939081\\\\\n",
       "\tagesix:SOND & -0.032698112 & -0.004084807\\\\\n",
       "\tagethree:SOND & -0.027154775 &  0.004186053\\\\\n",
       "\\end{tabular}\n"
      ],
      "text/markdown": [
       "\n",
       "| <!--/--> | 2.5 % | 97.5 % |\n",
       "|---|---|---|\n",
       "| .sig01 |  0.484133496 |  0.568036105 |\n",
       "| .sigma |  0.412404166 |  0.456609587 |\n",
       "| (Intercept) | -0.220464819 | -0.009244458 |\n",
       "| agesix |  0.066891850 |  0.277121545 |\n",
       "| agethree |  0.004808537 |  0.213312292 |\n",
       "| SOND |  0.004094482 |  0.034939081 |\n",
       "| agesix:SOND | -0.032698112 | -0.004084807 |\n",
       "| agethree:SOND | -0.027154775 |  0.004186053 |\n",
       "\n"
      ],
      "text/plain": [
       "              2.5 %        97.5 %      \n",
       ".sig01         0.484133496  0.568036105\n",
       ".sigma         0.412404166  0.456609587\n",
       "(Intercept)   -0.220464819 -0.009244458\n",
       "agesix         0.066891850  0.277121545\n",
       "agethree       0.004808537  0.213312292\n",
       "SOND           0.004094482  0.034939081\n",
       "agesix:SOND   -0.032698112 -0.004084807\n",
       "agethree:SOND -0.027154775  0.004186053"
      ]
     },
     "metadata": {},
     "output_type": "display_data"
    }
   ],
   "source": [
    "confint(cvc.mixed.sond)"
   ]
  },
  {
   "cell_type": "code",
   "execution_count": 50,
   "metadata": {
    "hidden": true
   },
   "outputs": [],
   "source": [
    "write.csv( summary(cvc.mixed.sond)$coefficients,\"cvc_tables/cvc_mixed_sond.cvc\")"
   ]
  },
  {
   "cell_type": "code",
   "execution_count": 51,
   "metadata": {
    "hidden": true
   },
   "outputs": [
    {
     "name": "stderr",
     "output_type": "stream",
     "text": [
      "Computing profile confidence intervals ...\n"
     ]
    }
   ],
   "source": [
    "write.csv(confint(cvc.mixed.sond),\"cvc_tables/cvc_mixed_sond_confint.csv\")"
   ]
  },
  {
   "cell_type": "code",
   "execution_count": 53,
   "metadata": {
    "hidden": true
   },
   "outputs": [
    {
     "data": {
      "text/html": [
       "<table>\n",
       "<thead><tr><th></th><th scope=col>Sum Sq</th><th scope=col>Mean Sq</th><th scope=col>NumDF</th><th scope=col>DenDF</th><th scope=col>F value</th><th scope=col>Pr(&gt;F)</th></tr></thead>\n",
       "<tbody>\n",
       "\t<tr><th scope=row>age</th><td>1.9780808 </td><td>0.9890404 </td><td>2         </td><td>804.5955  </td><td>5.232153  </td><td>0.00552528</td></tr>\n",
       "\t<tr><th scope=row>SOND</th><td>0.5533219 </td><td>0.5533219 </td><td>1         </td><td>827.9177  </td><td>2.927145  </td><td>0.08747597</td></tr>\n",
       "\t<tr><th scope=row>age:SOND</th><td>1.1961289 </td><td>0.5980645 </td><td>2         </td><td>840.8101  </td><td>3.163839  </td><td>0.04276678</td></tr>\n",
       "</tbody>\n",
       "</table>\n"
      ],
      "text/latex": [
       "\\begin{tabular}{r|llllll}\n",
       "  & Sum Sq & Mean Sq & NumDF & DenDF & F value & Pr(>F)\\\\\n",
       "\\hline\n",
       "\tage & 1.9780808  & 0.9890404  & 2          & 804.5955   & 5.232153   & 0.00552528\\\\\n",
       "\tSOND & 0.5533219  & 0.5533219  & 1          & 827.9177   & 2.927145   & 0.08747597\\\\\n",
       "\tage:SOND & 1.1961289  & 0.5980645  & 2          & 840.8101   & 3.163839   & 0.04276678\\\\\n",
       "\\end{tabular}\n"
      ],
      "text/markdown": [
       "\n",
       "| <!--/--> | Sum Sq | Mean Sq | NumDF | DenDF | F value | Pr(>F) |\n",
       "|---|---|---|---|---|---|---|\n",
       "| age | 1.9780808  | 0.9890404  | 2          | 804.5955   | 5.232153   | 0.00552528 |\n",
       "| SOND | 0.5533219  | 0.5533219  | 1          | 827.9177   | 2.927145   | 0.08747597 |\n",
       "| age:SOND | 1.1961289  | 0.5980645  | 2          | 840.8101   | 3.163839   | 0.04276678 |\n",
       "\n"
      ],
      "text/plain": [
       "         Sum Sq    Mean Sq   NumDF DenDF    F value  Pr(>F)    \n",
       "age      1.9780808 0.9890404 2     804.5955 5.232153 0.00552528\n",
       "SOND     0.5533219 0.5533219 1     827.9177 2.927145 0.08747597\n",
       "age:SOND 1.1961289 0.5980645 2     840.8101 3.163839 0.04276678"
      ]
     },
     "metadata": {},
     "output_type": "display_data"
    }
   ],
   "source": [
    "anova(cvc.mixed.sond)"
   ]
  },
  {
   "cell_type": "markdown",
   "metadata": {
    "heading_collapsed": true,
    "hidden": true
   },
   "source": [
    "## PLD20"
   ]
  },
  {
   "cell_type": "code",
   "execution_count": 56,
   "metadata": {
    "hidden": true
   },
   "outputs": [],
   "source": [
    "cvc.mixed.pld20 <- lmer(PACT ~ age * PLD20 + (1|phonological),data = cvc)"
   ]
  },
  {
   "cell_type": "code",
   "execution_count": 57,
   "metadata": {
    "hidden": true
   },
   "outputs": [
    {
     "data": {
      "text/plain": [
       "Linear mixed model fit by REML. t-tests use Satterthwaite's method [\n",
       "lmerModLmerTest]\n",
       "Formula: PACT ~ age * PLD20 + (1 | phonological)\n",
       "   Data: cvc\n",
       "\n",
       "REML criterion at convergence: 2267.4\n",
       "\n",
       "Scaled residuals: \n",
       "    Min      1Q  Median      3Q     Max \n",
       "-3.0545 -0.4501  0.0313  0.4749  3.5936 \n",
       "\n",
       "Random effects:\n",
       " Groups       Name        Variance Std.Dev.\n",
       " phonological (Intercept) 0.2701   0.5197  \n",
       " Residual                 0.1904   0.4364  \n",
       "Number of obs: 1262, groups:  phonological, 539\n",
       "\n",
       "Fixed effects:\n",
       "                 Estimate Std. Error         df t value Pr(>|t|)  \n",
       "(Intercept)       0.55424    0.26010 1218.79214   2.131   0.0333 *\n",
       "agesix           -0.04620    0.24505  829.70160  -0.189   0.8505  \n",
       "agethree          0.25601    0.27696  776.11419   0.924   0.3556  \n",
       "PLD20            -0.35000    0.16105 1223.45752  -2.173   0.0300 *\n",
       "agesix:PLD20      0.06068    0.15429  821.12611   0.393   0.6942  \n",
       "agethree:PLD20   -0.12757    0.17113  777.30831  -0.745   0.4562  \n",
       "---\n",
       "Signif. codes:  0 ‘***’ 0.001 ‘**’ 0.01 ‘*’ 0.05 ‘.’ 0.1 ‘ ’ 1\n",
       "\n",
       "Correlation of Fixed Effects:\n",
       "            (Intr) agesix agethr PLD20  ags:PLD20\n",
       "agesix      -0.681                               \n",
       "agethree    -0.491  0.522                        \n",
       "PLD20       -0.992  0.679  0.489                 \n",
       "agesx:PLD20  0.648 -0.991 -0.512 -0.655          \n",
       "agthr:PLD20  0.494 -0.522 -0.993 -0.499  0.519   "
      ]
     },
     "metadata": {},
     "output_type": "display_data"
    }
   ],
   "source": [
    "summary(cvc.mixed.pld20)"
   ]
  },
  {
   "cell_type": "code",
   "execution_count": 58,
   "metadata": {
    "hidden": true
   },
   "outputs": [],
   "source": [
    "write.csv( summary(cvc.mixed.pld20)$coefficients,\"cvc_tables/cvc_mixed_pld20.cvc\")"
   ]
  },
  {
   "cell_type": "code",
   "execution_count": 59,
   "metadata": {
    "hidden": true
   },
   "outputs": [
    {
     "name": "stderr",
     "output_type": "stream",
     "text": [
      "Computing profile confidence intervals ...\n"
     ]
    }
   ],
   "source": [
    "write.csv(confint(cvc.mixed.pld20),\"cvc_tables/cvc_mixed_pld20_confint.csv\")"
   ]
  },
  {
   "cell_type": "markdown",
   "metadata": {
    "heading_collapsed": true,
    "hidden": true
   },
   "source": [
    "## PFEAT20"
   ]
  },
  {
   "cell_type": "code",
   "execution_count": 60,
   "metadata": {
    "hidden": true
   },
   "outputs": [],
   "source": [
    "cvc.mixed.pfeat20 <- lmer(PACT ~ age * PFEAT20 + (1|phonological),data = cvc)"
   ]
  },
  {
   "cell_type": "code",
   "execution_count": 61,
   "metadata": {
    "hidden": true
   },
   "outputs": [
    {
     "data": {
      "text/plain": [
       "Linear mixed model fit by REML. t-tests use Satterthwaite's method [\n",
       "lmerModLmerTest]\n",
       "Formula: PACT ~ age * PFEAT20 + (1 | phonological)\n",
       "   Data: cvc\n",
       "\n",
       "REML criterion at convergence: 2270.9\n",
       "\n",
       "Scaled residuals: \n",
       "    Min      1Q  Median      3Q     Max \n",
       "-3.0570 -0.4492  0.0293  0.4900  3.6025 \n",
       "\n",
       "Random effects:\n",
       " Groups       Name        Variance Std.Dev.\n",
       " phonological (Intercept) 0.2731   0.5226  \n",
       " Residual                 0.1904   0.4364  \n",
       "Number of obs: 1262, groups:  phonological, 539\n",
       "\n",
       "Fixed effects:\n",
       "                   Estimate Std. Error         df t value Pr(>|t|)  \n",
       "(Intercept)         0.28516    0.16986 1146.30245   1.679   0.0935 .\n",
       "agesix              0.04817    0.16834  817.19077   0.286   0.7748  \n",
       "agethree            0.08928    0.17146  778.29561   0.521   0.6027  \n",
       "PFEAT20            -0.31573    0.18000 1158.06750  -1.754   0.0797 .\n",
       "agesix:PFEAT20      0.01320    0.18313  823.78343   0.072   0.9425  \n",
       "agethree:PFEAT20   -0.04659    0.18196  778.97356  -0.256   0.7980  \n",
       "---\n",
       "Signif. codes:  0 ‘***’ 0.001 ‘**’ 0.01 ‘*’ 0.05 ‘.’ 0.1 ‘ ’ 1\n",
       "\n",
       "Correlation of Fixed Effects:\n",
       "            (Intr) agesix agethr PFEAT2 ags:PFEAT20\n",
       "agesix      -0.550                                 \n",
       "agethree    -0.514  0.510                          \n",
       "PFEAT20     -0.981  0.544  0.507                   \n",
       "ags:PFEAT20  0.505 -0.982 -0.489 -0.518            \n",
       "agt:PFEAT20  0.509 -0.502 -0.982 -0.521  0.499     "
      ]
     },
     "metadata": {},
     "output_type": "display_data"
    }
   ],
   "source": [
    "summary(cvc.mixed.pfeat20)"
   ]
  },
  {
   "cell_type": "code",
   "execution_count": 62,
   "metadata": {
    "hidden": true
   },
   "outputs": [],
   "source": [
    "write.csv( summary(cvc.mixed.pfeat20)$coefficients,\"cvc_tables/cvc_mixed_pfeat20.cvc\")"
   ]
  },
  {
   "cell_type": "code",
   "execution_count": 63,
   "metadata": {
    "hidden": true
   },
   "outputs": [
    {
     "name": "stderr",
     "output_type": "stream",
     "text": [
      "Computing profile confidence intervals ...\n"
     ]
    }
   ],
   "source": [
    "write.csv(confint(cvc.mixed.pfeat20),\"cvc_tables/cvc_mixed_pfeat20_confint.csv\")"
   ]
  },
  {
   "cell_type": "markdown",
   "metadata": {
    "heading_collapsed": true,
    "hidden": true
   },
   "source": [
    "## ND"
   ]
  },
  {
   "cell_type": "code",
   "execution_count": 64,
   "metadata": {
    "hidden": true
   },
   "outputs": [],
   "source": [
    "cvc.mixed.nd <- lmer(PACT ~ age * ND + (1|phonological),data = cvc)"
   ]
  },
  {
   "cell_type": "code",
   "execution_count": 65,
   "metadata": {
    "hidden": true
   },
   "outputs": [
    {
     "data": {
      "text/plain": [
       "Linear mixed model fit by REML. t-tests use Satterthwaite's method [\n",
       "lmerModLmerTest]\n",
       "Formula: PACT ~ age * ND + (1 | phonological)\n",
       "   Data: cvc\n",
       "\n",
       "REML criterion at convergence: 2285.8\n",
       "\n",
       "Scaled residuals: \n",
       "    Min      1Q  Median      3Q     Max \n",
       "-3.0524 -0.4491  0.0318  0.4747  3.5945 \n",
       "\n",
       "Random effects:\n",
       " Groups       Name        Variance Std.Dev.\n",
       " phonological (Intercept) 0.2703   0.5199  \n",
       " Residual                 0.1904   0.4364  \n",
       "Number of obs: 1262, groups:  phonological, 539\n",
       "\n",
       "Fixed effects:\n",
       "              Estimate Std. Error         df t value Pr(>|t|)  \n",
       "(Intercept) -1.437e-01  7.154e-02  1.203e+03  -2.009   0.0448 *\n",
       "agesix       7.523e-02  7.295e-02  8.168e+02   1.031   0.3027  \n",
       "agethree     4.393e-03  7.425e-02  7.830e+02   0.059   0.9528  \n",
       "ND           1.725e-02  8.020e-03  1.222e+03   2.151   0.0317 *\n",
       "agesix:ND   -3.003e-03  7.671e-03  8.200e+02  -0.391   0.6955  \n",
       "agethree:ND  5.935e-03  8.513e-03  7.766e+02   0.697   0.4859  \n",
       "---\n",
       "Signif. codes:  0 ‘***’ 0.001 ‘**’ 0.01 ‘*’ 0.05 ‘.’ 0.1 ‘ ’ 1\n",
       "\n",
       "Correlation of Fixed Effects:\n",
       "            (Intr) agesix agethr ND     ags:ND\n",
       "agesix      -0.545                            \n",
       "agethree    -0.524  0.496                     \n",
       "ND          -0.891  0.486  0.474              \n",
       "agesix:ND    0.590 -0.895 -0.479 -0.655       \n",
       "agethree:ND  0.449 -0.437 -0.900 -0.498  0.518"
      ]
     },
     "metadata": {},
     "output_type": "display_data"
    }
   ],
   "source": [
    "summary(cvc.mixed.nd)"
   ]
  },
  {
   "cell_type": "code",
   "execution_count": 66,
   "metadata": {
    "hidden": true
   },
   "outputs": [],
   "source": [
    "write.csv( summary(cvc.mixed.nd)$coefficients,\"cvc_tables/cvc_mixed_nd.cvc\")"
   ]
  },
  {
   "cell_type": "code",
   "execution_count": 67,
   "metadata": {
    "hidden": true
   },
   "outputs": [
    {
     "name": "stderr",
     "output_type": "stream",
     "text": [
      "Computing profile confidence intervals ...\n"
     ]
    }
   ],
   "source": [
    "write.csv(confint(cvc.mixed.nd),\"cvc_tables/cvc_mixed_nd_confint.csv\")"
   ]
  },
  {
   "cell_type": "code",
   "execution_count": null,
   "metadata": {
    "hidden": true
   },
   "outputs": [],
   "source": []
  }
 ],
 "metadata": {
  "kernelspec": {
   "display_name": "R",
   "language": "R",
   "name": "ir"
  },
  "language_info": {
   "codemirror_mode": "r",
   "file_extension": ".r",
   "mimetype": "text/x-r-source",
   "name": "R",
   "pygments_lexer": "r",
   "version": "3.6.1"
  }
 },
 "nbformat": 4,
 "nbformat_minor": 4
}
