{
 "cells": [
  {
   "cell_type": "markdown",
   "metadata": {},
   "source": [
    "# Appendix D: univariate statistics"
   ]
  },
  {
   "cell_type": "markdown",
   "metadata": {},
   "source": [
    "Contains the univariate analysis for the CVC and multisyllabic words in Appendix D."
   ]
  },
  {
   "cell_type": "code",
   "execution_count": 1,
   "metadata": {},
   "outputs": [
    {
     "name": "stdout",
     "output_type": "stream",
     "text": [
      "/home/melissa/Dropbox/experiments/python\n"
     ]
    }
   ],
   "source": [
    "%reload_ext autoreload\n",
    "%autoreload 2\n",
    "%matplotlib inline\n",
    "current_dir = %pwd\n",
    "if not current_dir == '/home/melissa/Dropbox/experiments/python/':\n",
    "    %cd '/home/melissa/Dropbox/experiments/python/'"
   ]
  },
  {
   "cell_type": "code",
   "execution_count": 2,
   "metadata": {},
   "outputs": [
    {
     "ename": "ModuleNotFoundError",
     "evalue": "No module named 'statsmodels'",
     "output_type": "error",
     "traceback": [
      "\u001b[0;31m---------------------------------------------------------------------------\u001b[0m",
      "\u001b[0;31mModuleNotFoundError\u001b[0m                       Traceback (most recent call last)",
      "\u001b[0;32m<ipython-input-2-7dc1e2818cd0>\u001b[0m in \u001b[0;36m<module>\u001b[0;34m\u001b[0m\n\u001b[1;32m      4\u001b[0m \u001b[0;32mimport\u001b[0m \u001b[0mmatplotlib\u001b[0m\u001b[0;34m.\u001b[0m\u001b[0mpyplot\u001b[0m \u001b[0;32mas\u001b[0m \u001b[0mplt\u001b[0m\u001b[0;34m\u001b[0m\u001b[0;34m\u001b[0m\u001b[0m\n\u001b[1;32m      5\u001b[0m \u001b[0;34m\u001b[0m\u001b[0m\n\u001b[0;32m----> 6\u001b[0;31m \u001b[0;32mimport\u001b[0m \u001b[0mstatsmodels\u001b[0m\u001b[0;34m.\u001b[0m\u001b[0mapi\u001b[0m \u001b[0;32mas\u001b[0m \u001b[0msm\u001b[0m\u001b[0;34m\u001b[0m\u001b[0;34m\u001b[0m\u001b[0m\n\u001b[0m",
      "\u001b[0;31mModuleNotFoundError\u001b[0m: No module named 'statsmodels'"
     ]
    }
   ],
   "source": [
    "from pathlib import Path\n",
    "import pandas as pd\n",
    "import numpy as np\n",
    "import matplotlib.pyplot as plt\n",
    "\n",
    "import statsmodels.api as sm"
   ]
  },
  {
   "cell_type": "code",
   "execution_count": null,
   "metadata": {},
   "outputs": [],
   "source": [
    "data = Path.cwd()/'current_projects/jcl_multisyllabic_neighborhoods_2021/data/combined/'\n",
    "outdir = Path.cwd()/'current_projects/jcl_multisyllabic_neighborhoods_2021/data/data_tables/'"
   ]
  },
  {
   "cell_type": "code",
   "execution_count": null,
   "metadata": {},
   "outputs": [],
   "source": [
    "data3 = pd.read_pickle(data/'data3.pickle')\n",
    "data4 = pd.read_pickle(data/'data4.pickle')\n",
    "data6 = pd.read_pickle(data/'data6.pickle')"
   ]
  },
  {
   "cell_type": "code",
   "execution_count": null,
   "metadata": {},
   "outputs": [],
   "source": [
    "convert = {'PACT':'float64','Pct Child':'float64','Pct Adult':'float64',\n",
    "           'len_syllables':'int32','ND':'int32', 'SOND':'int32'}\n",
    "data3 = data3.astype(convert)\n",
    "data4 = data4.astype(convert)\n",
    "data6 = data6.astype(convert)"
   ]
  },
  {
   "cell_type": "code",
   "execution_count": null,
   "metadata": {},
   "outputs": [],
   "source": [
    "c3 = data3['iscvc']\n",
    "c4 = data4['iscvc']\n",
    "c6 = data6['iscvc']"
   ]
  },
  {
   "cell_type": "code",
   "execution_count": null,
   "metadata": {},
   "outputs": [],
   "source": [
    "m3 = data3['ismulti']\n",
    "m4 = data4['ismulti']\n",
    "m6 = data6['ismulti']"
   ]
  },
  {
   "cell_type": "code",
   "execution_count": null,
   "metadata": {},
   "outputs": [],
   "source": [
    "data3.columns,data3.iscvc.sum(),data3.ismulti.sum()"
   ]
  },
  {
   "cell_type": "markdown",
   "metadata": {},
   "source": [
    "## Bootstrapping and Serializing"
   ]
  },
  {
   "cell_type": "code",
   "execution_count": null,
   "metadata": {},
   "outputs": [],
   "source": [
    "bootstrap_num = 1000\n",
    "alpha = 0.95"
   ]
  },
  {
   "cell_type": "markdown",
   "metadata": {},
   "source": [
    "Note that the following function works for both simple and multiple regression. Currently, I am doing a series of simple regression for the analyses."
   ]
  },
  {
   "cell_type": "code",
   "execution_count": null,
   "metadata": {},
   "outputs": [],
   "source": [
    "def ols_and_boot(child, independent, dependent):\n",
    "    \n",
    "    def find_CI(dist):\n",
    "        ordered = np.sort(dist)\n",
    "        p_low = ((1.0 - alpha) / 2.0) * 100\n",
    "        lower = max(0.0, np.percentile(ordered, p_low))\n",
    "        p_up = (alpha + ((1.0 - alpha) / 2.0)) * 100\n",
    "        upper = min(1.0, np.percentile(ordered, p_up))\n",
    "        return [lower, upper]\n",
    "    \n",
    "    # independent variables\n",
    "    rsquareds = list()\n",
    "    original = sm.OLS(child[dependent], sm.add_constant(child[independent])).fit()\n",
    "    for count in range(0,bootstrap_num):\n",
    "        random = child.sample(n=len(child),replace=True)\n",
    "        random_regr = sm.OLS(random[dependent], sm.add_constant(random[independent])).fit()\n",
    "        rsquareds.append(random_regr.rsquared)\n",
    "    rci = find_CI(rsquareds)\n",
    "    # observations, df numerator, df denominator, fvalue, pvalue, condition number, \n",
    "    # r2, lower r2 CI, upper r2 CI\n",
    "    return original.nobs, original.df_model, original.df_resid, original.fvalue, \\\n",
    "            original.f_pvalue, original.rsquared, rci[0], rci[1]"
   ]
  },
  {
   "cell_type": "code",
   "execution_count": null,
   "metadata": {},
   "outputs": [],
   "source": [
    "df = pd.DataFrame(index=['observations', 'df numerator', 'df denominator', 'fvalue', \n",
    "                         'pvalue', 'r2', 'lower r2 CI', 'upper r2 CI'])"
   ]
  },
  {
   "cell_type": "markdown",
   "metadata": {},
   "source": [
    "'PACT', 'Pct Child', 'Pct Adult', 'syllables', 'len_syllables',\n",
    "        'len_phonemes', 'stress_syl_pos', 'orthographic', 'ND', 'SOND', 'PLD20',\n",
    "        'PFEAT20', 'iscvc', 'ismulti']"
   ]
  },
  {
   "cell_type": "code",
   "execution_count": null,
   "metadata": {},
   "outputs": [],
   "source": [
    "# CVC\n",
    "df = df.assign(cvc_3_ND=ols_and_boot(data3[data3.iscvc],'ND','PACT'))\n",
    "df = df.assign(cvc_4_ND=ols_and_boot(data4[data4.iscvc],'ND','PACT'))\n",
    "df = df.assign(cvc_6_ND=ols_and_boot(data6[data6.iscvc],'ND','PACT'))\n",
    "\n",
    "# multisyllabic age 3\n",
    "df = df.assign(multi_3_PFEAT20=ols_and_boot(data3[data3.ismulti],'PFEAT20','PACT'))\n",
    "df = df.assign(multi_3_PLD20=ols_and_boot(data3[data3.ismulti],'PLD20','PACT'))\n",
    "df = df.assign(multi_3_SOND=ols_and_boot(data3[data3.ismulti],'SOND','PACT'))\n",
    "\n",
    "# multisyllabic age 4\n",
    "df = df.assign(multi_4_PFEAT20=ols_and_boot(data4[data4.ismulti],'PFEAT20','PACT'))\n",
    "df = df.assign(multi_4_PLD20=ols_and_boot(data4[data4.ismulti],'PLD20','PACT'))\n",
    "df = df.assign(multi_4_SOND=ols_and_boot(data4[data4.ismulti],'SOND','PACT'))\n",
    "\n",
    "# multisyllabic age 6\n",
    "df = df.assign(multi_6_PFEAT20=ols_and_boot(data6[data6.ismulti],'PFEAT20','PACT'))\n",
    "df = df.assign(multi_6_PLD20=ols_and_boot(data6[data6.ismulti],'PLD20','PACT'))\n",
    "df = df.assign(multi_6_SOND=ols_and_boot(data6[data6.ismulti],'SOND','PACT'))\n",
    "\n"
   ]
  },
  {
   "cell_type": "code",
   "execution_count": null,
   "metadata": {},
   "outputs": [],
   "source": [
    "df = df.T\n",
    "df.to_csv(outdir/'inferential.csv')"
   ]
  },
  {
   "cell_type": "code",
   "execution_count": null,
   "metadata": {},
   "outputs": [],
   "source": [
    "df"
   ]
  },
  {
   "cell_type": "code",
   "execution_count": null,
   "metadata": {},
   "outputs": [],
   "source": []
  }
 ],
 "metadata": {
  "kernelspec": {
   "display_name": "Python 3",
   "language": "python",
   "name": "python3"
  },
  "language_info": {
   "codemirror_mode": {
    "name": "ipython",
    "version": 3
   },
   "file_extension": ".py",
   "mimetype": "text/x-python",
   "name": "python",
   "nbconvert_exporter": "python",
   "pygments_lexer": "ipython3",
   "version": "3.7.7"
  }
 },
 "nbformat": 4,
 "nbformat_minor": 2
}
