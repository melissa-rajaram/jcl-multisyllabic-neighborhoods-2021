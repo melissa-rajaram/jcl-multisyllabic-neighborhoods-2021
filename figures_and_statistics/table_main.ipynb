{
 "cells": [
  {
   "cell_type": "markdown",
   "metadata": {},
   "source": [
    "# Main Article Tables"
   ]
  },
  {
   "cell_type": "markdown",
   "metadata": {},
   "source": [
    "This notebook creates the data used in Table 1, Table 2 and Table 3 of the main text. Note that the data created for Table 2 provides multiple examples of CVC and multisyllabic words that are 'easier' or 'harder' to acquire at 3, 4 and 6 years. "
   ]
  },
  {
   "cell_type": "markdown",
   "metadata": {},
   "source": [
    "# 1. Imports and Loading"
   ]
  },
  {
   "cell_type": "markdown",
   "metadata": {},
   "source": [
    "## Imports"
   ]
  },
  {
   "cell_type": "code",
   "execution_count": 15,
   "metadata": {},
   "outputs": [
    {
     "name": "stdout",
     "output_type": "stream",
     "text": [
      "/home/melissa/Dropbox/experiments/python\n"
     ]
    }
   ],
   "source": [
    "%reload_ext autoreload\n",
    "%autoreload 2\n",
    "%matplotlib inline\n",
    "current_dir = %pwd\n",
    "if not current_dir == '/home/melissa/Dropbox/experiments/python/':\n",
    "    %cd '/home/melissa/Dropbox/experiments/python/'"
   ]
  },
  {
   "cell_type": "code",
   "execution_count": 36,
   "metadata": {},
   "outputs": [],
   "source": [
    "from pathlib import Path\n",
    "import pandas as pd\n",
    "import numpy as np\n",
    "import seaborn as sns\n",
    "import matplotlib.pyplot as plt\n",
    "from matplotlib.colors import ListedColormap\n",
    "import matplotlib.ticker as mtick\n",
    "from scipy import stats\n",
    "\n",
    "homedir = \"/home/melissa/Dropbox/experiments/python/current_projects/jcl_multisyllabic_neighborhoods_2021/\"\n",
    "datadir = \"data/combined/\"\n",
    "data = Path(homedir+datadir)\n",
    "outdir = Path(homedir+\"data/table_data/\")"
   ]
  },
  {
   "cell_type": "markdown",
   "metadata": {},
   "source": [
    "# Table 1"
   ]
  },
  {
   "cell_type": "code",
   "execution_count": 17,
   "metadata": {},
   "outputs": [],
   "source": [
    "convert = {'PACT':'float64','Pct Child':'float64','Pct Adult':'float64',\n",
    "           'len_syllables':'int32','ND':'int32', 'SOND':'int32'}\n",
    "data3 = pd.read_pickle(data/'data3.pickle')\n",
    "data3 = data3.astype(convert)\n",
    "data4 = pd.read_pickle(data/'data4.pickle')\n",
    "data4 = data4.astype(convert)\n",
    "data6 = pd.read_pickle(data/'data6.pickle')\n",
    "data6 = data6.astype(convert)"
   ]
  },
  {
   "cell_type": "code",
   "execution_count": 18,
   "metadata": {},
   "outputs": [],
   "source": [
    "def word_count_table(data):\n",
    "    \n",
    "    return data.shape[0], data[np.isfinite(data['Pct Adult'])].shape[0], \\\n",
    "           data[np.isfinite(data['Pct Adult'])][data.ismulti].shape[0], \\\n",
    "           data[np.isfinite(data['Pct Adult'])][data.iscvc].shape[0]"
   ]
  },
  {
   "cell_type": "code",
   "execution_count": 19,
   "metadata": {},
   "outputs": [
    {
     "name": "stderr",
     "output_type": "stream",
     "text": [
      "/home/melissa/.local/lib/python3.7/site-packages/ipykernel_launcher.py:4: UserWarning: Boolean Series key will be reindexed to match DataFrame index.\n",
      "  after removing the cwd from sys.path.\n",
      "/home/melissa/.local/lib/python3.7/site-packages/ipykernel_launcher.py:5: UserWarning: Boolean Series key will be reindexed to match DataFrame index.\n",
      "  \"\"\"\n"
     ]
    },
    {
     "data": {
      "text/plain": [
       "((1557, 1397, 644, 386), (1687, 1495, 717, 393), (2260, 1939, 983, 483))"
      ]
     },
     "execution_count": 19,
     "metadata": {},
     "output_type": "execute_result"
    }
   ],
   "source": [
    "word_count_table(data3),word_count_table(data4),word_count_table(data6)"
   ]
  },
  {
   "cell_type": "markdown",
   "metadata": {},
   "source": [
    "### Determining how many syllables are in the multisyllabic words"
   ]
  },
  {
   "cell_type": "code",
   "execution_count": 20,
   "metadata": {},
   "outputs": [],
   "source": [
    "sylls3 = data3['len_syllables'][data3['ismulti']].values\n",
    "sylls4 = data4['len_syllables'][data4['ismulti']].values\n",
    "sylls6 = data6['len_syllables'][data6['ismulti']].values"
   ]
  },
  {
   "cell_type": "code",
   "execution_count": 21,
   "metadata": {},
   "outputs": [
    {
     "data": {
      "text/plain": [
       "5"
      ]
     },
     "execution_count": 21,
     "metadata": {},
     "output_type": "execute_result"
    }
   ],
   "source": [
    "np.max([np.max(sylls3),np.max(sylls4),np.max(sylls6)])"
   ]
  },
  {
   "cell_type": "code",
   "execution_count": 22,
   "metadata": {},
   "outputs": [
    {
     "data": {
      "text/plain": [
       "2"
      ]
     },
     "execution_count": 22,
     "metadata": {},
     "output_type": "execute_result"
    }
   ],
   "source": [
    "np.min([np.min(sylls3),np.min(sylls4),np.min(sylls6)])"
   ]
  },
  {
   "cell_type": "markdown",
   "metadata": {},
   "source": [
    "# Table 2"
   ]
  },
  {
   "cell_type": "code",
   "execution_count": 23,
   "metadata": {},
   "outputs": [],
   "source": [
    "data = Path.cwd()/'current_projects/jcl_multisyllabic_neighborhoods_2021/data'\n",
    "old_data = data/'old_2018'"
   ]
  },
  {
   "cell_type": "markdown",
   "metadata": {},
   "source": [
    "Note that this table uses previously calculated 'old' data. This contains the same PACT values as in the paper, but also contains many other calculations. The one of interest for this table is age-of-acquisition data, used to rank the candidate choices as 'easier' or 'harder' to acquire.\n",
    "\n",
    "Note that 10 candidate words were chosen per age/word type. This was to account for missing data in the age-of-acquisition data (coded as age 0.0), and to avoid duplicates across ages."
   ]
  },
  {
   "cell_type": "code",
   "execution_count": 24,
   "metadata": {},
   "outputs": [],
   "source": [
    "c3 = pd.read_pickle(old_data/'three_vars.pickle')\n",
    "c4 = pd.read_pickle(old_data/'four_vars.pickle')\n",
    "c6 = pd.read_pickle(old_data/'six_vars.pickle')"
   ]
  },
  {
   "cell_type": "code",
   "execution_count": 25,
   "metadata": {},
   "outputs": [
    {
     "data": {
      "text/plain": [
       "Index(['phonological', 'orthographic', 'percent_child', 'percent_adult',\n",
       "       'token_child', 'token_adult', 'nucleus_density',\n",
       "       'onset_nucleus_density', 'nucleus_coda_density', 'on_nu&nu_co_density',\n",
       "       'onset_nucleus_coda_density', 'syllables', 'length_syllables',\n",
       "       'length_phonemes', 'stressed_syll_position', 'onset_nucleus',\n",
       "       'onset_nucleus_coda', 'SAD_density', 'SAD_frequency_pct_child',\n",
       "       'SAD_frequency_tok_child', 'SAD_frequency_tok_raw',\n",
       "       'SAD_frequency_pct_child_raw', 'SON_frequency', 'adult_SON_density',\n",
       "       'SAD_frequency', 'SAD_frequency_pct', 'age_of_acquisition', 'fau_poly1',\n",
       "       'fau_poly2', 'fau_token_poly1', 'fau_token_poly2', 'fau_pct_poly1',\n",
       "       'fau_pct_poly2', 'adjusted_aoa', 'fau_bisyllabic',\n",
       "       'fau_bisyllabic_trochaic', 'fau_cvc', 'fau_minus_1', 'fau_minus_10',\n",
       "       'fau_minus_100', 'fau_random_25', 'fau_random_50', 'fau_fandom_75'],\n",
       "      dtype='object')"
      ]
     },
     "execution_count": 25,
     "metadata": {},
     "output_type": "execute_result"
    }
   ],
   "source": [
    "c3.columns"
   ]
  },
  {
   "cell_type": "code",
   "execution_count": 26,
   "metadata": {},
   "outputs": [],
   "source": [
    "iscvc3 = (c3['length_syllables']==0).values & np.isfinite(c3['percent_adult']).values\n",
    "iscvc4 = (c4['length_syllables']==0).values & np.isfinite(c4['percent_adult']).values\n",
    "iscvc6 = (c6['length_syllables']==0).values & np.isfinite(c6['percent_adult']).values"
   ]
  },
  {
   "cell_type": "code",
   "execution_count": 27,
   "metadata": {},
   "outputs": [],
   "source": [
    "ismulti3 = (c3['length_syllables']>=2).values & np.isfinite(c3['percent_adult']).values\n",
    "ismulti4 = (c4['length_syllables']>=2).values & np.isfinite(c4['percent_adult']).values\n",
    "ismulti6 = (c6['length_syllables']>=2).values & np.isfinite(c6['percent_adult']).values"
   ]
  },
  {
   "cell_type": "code",
   "execution_count": 28,
   "metadata": {},
   "outputs": [],
   "source": [
    "c3['iscvc'] = iscvc3\n",
    "c3['ismulti'] = ismulti3\n",
    "c4['iscvc'] = iscvc4\n",
    "c4['ismulti'] = ismulti4\n",
    "c6['iscvc'] = iscvc6\n",
    "c6['ismulti'] = ismulti6"
   ]
  },
  {
   "cell_type": "code",
   "execution_count": 29,
   "metadata": {},
   "outputs": [],
   "source": [
    "p3 = c3[np.isfinite(c3['fau_pct_poly2'])]\n",
    "p4 = c4[np.isfinite(c4['fau_pct_poly2'])]\n",
    "p6 = c6[np.isfinite(c6['fau_pct_poly2'])]"
   ]
  },
  {
   "cell_type": "code",
   "execution_count": 30,
   "metadata": {},
   "outputs": [
    {
     "name": "stderr",
     "output_type": "stream",
     "text": [
      "/home/melissa/.local/lib/python3.7/site-packages/ipykernel_launcher.py:1: SettingWithCopyWarning: \n",
      "A value is trying to be set on a copy of a slice from a DataFrame.\n",
      "Try using .loc[row_indexer,col_indexer] = value instead\n",
      "\n",
      "See the caveats in the documentation: https://pandas.pydata.org/pandas-docs/stable/user_guide/indexing.html#returning-a-view-versus-a-copy\n",
      "  \"\"\"Entry point for launching an IPython kernel.\n",
      "/home/melissa/.local/lib/python3.7/site-packages/ipykernel_launcher.py:2: SettingWithCopyWarning: \n",
      "A value is trying to be set on a copy of a slice from a DataFrame.\n",
      "Try using .loc[row_indexer,col_indexer] = value instead\n",
      "\n",
      "See the caveats in the documentation: https://pandas.pydata.org/pandas-docs/stable/user_guide/indexing.html#returning-a-view-versus-a-copy\n",
      "  \n",
      "/home/melissa/.local/lib/python3.7/site-packages/ipykernel_launcher.py:3: SettingWithCopyWarning: \n",
      "A value is trying to be set on a copy of a slice from a DataFrame.\n",
      "Try using .loc[row_indexer,col_indexer] = value instead\n",
      "\n",
      "See the caveats in the documentation: https://pandas.pydata.org/pandas-docs/stable/user_guide/indexing.html#returning-a-view-versus-a-copy\n",
      "  This is separate from the ipykernel package so we can avoid doing imports until\n"
     ]
    }
   ],
   "source": [
    "p3['zscore'] = stats.zscore(p3['fau_pct_poly2'])\n",
    "p4['zscore'] = stats.zscore(p4['fau_pct_poly2'])\n",
    "p6['zscore'] = stats.zscore(p6['fau_pct_poly2'])"
   ]
  },
  {
   "cell_type": "markdown",
   "metadata": {},
   "source": [
    "### create all of the high PACT multisyllabic"
   ]
  },
  {
   "cell_type": "code",
   "execution_count": 31,
   "metadata": {},
   "outputs": [
    {
     "name": "stderr",
     "output_type": "stream",
     "text": [
      "/home/melissa/.local/lib/python3.7/site-packages/ipykernel_launcher.py:4: UserWarning: Boolean Series key will be reindexed to match DataFrame index.\n",
      "  after removing the cwd from sys.path.\n",
      "/home/melissa/.local/lib/python3.7/site-packages/ipykernel_launcher.py:5: UserWarning: Boolean Series key will be reindexed to match DataFrame index.\n",
      "  \"\"\"\n",
      "/home/melissa/.local/lib/python3.7/site-packages/ipykernel_launcher.py:6: UserWarning: Boolean Series key will be reindexed to match DataFrame index.\n",
      "  \n"
     ]
    },
    {
     "data": {
      "text/html": [
       "<div>\n",
       "<style scoped>\n",
       "    .dataframe tbody tr th:only-of-type {\n",
       "        vertical-align: middle;\n",
       "    }\n",
       "\n",
       "    .dataframe tbody tr th {\n",
       "        vertical-align: top;\n",
       "    }\n",
       "\n",
       "    .dataframe thead th {\n",
       "        text-align: right;\n",
       "    }\n",
       "</style>\n",
       "<table border=\"1\" class=\"dataframe\">\n",
       "  <thead>\n",
       "    <tr style=\"text-align: right;\">\n",
       "      <th></th>\n",
       "      <th>3 words</th>\n",
       "      <th>3 aoa</th>\n",
       "      <th>4 words</th>\n",
       "      <th>4 aoa</th>\n",
       "      <th>6 words</th>\n",
       "      <th>6 aoa</th>\n",
       "    </tr>\n",
       "  </thead>\n",
       "  <tbody>\n",
       "    <tr>\n",
       "      <th>0</th>\n",
       "      <td>sucker</td>\n",
       "      <td>0.00</td>\n",
       "      <td>mother</td>\n",
       "      <td>2.63</td>\n",
       "      <td>hour</td>\n",
       "      <td>0.00</td>\n",
       "    </tr>\n",
       "    <tr>\n",
       "      <th>1</th>\n",
       "      <td>flour|flower</td>\n",
       "      <td>0.00</td>\n",
       "      <td>spider</td>\n",
       "      <td>3.43</td>\n",
       "      <td>carrot|carrot:carrots</td>\n",
       "      <td>2.74</td>\n",
       "    </tr>\n",
       "    <tr>\n",
       "      <th>2</th>\n",
       "      <td>carrot|carrot:carrots</td>\n",
       "      <td>2.74</td>\n",
       "      <td>airplane</td>\n",
       "      <td>3.94</td>\n",
       "      <td>puppy</td>\n",
       "      <td>3.28</td>\n",
       "    </tr>\n",
       "    <tr>\n",
       "      <th>3</th>\n",
       "      <td>welcome</td>\n",
       "      <td>4.06</td>\n",
       "      <td>welcome</td>\n",
       "      <td>4.06</td>\n",
       "      <td>toilet</td>\n",
       "      <td>3.54</td>\n",
       "    </tr>\n",
       "    <tr>\n",
       "      <th>4</th>\n",
       "      <td>mellon|melon</td>\n",
       "      <td>4.21</td>\n",
       "      <td>stupid</td>\n",
       "      <td>4.40</td>\n",
       "      <td>kitten</td>\n",
       "      <td>3.64</td>\n",
       "    </tr>\n",
       "    <tr>\n",
       "      <th>5</th>\n",
       "      <td>ladder|ladder:ladders</td>\n",
       "      <td>4.40</td>\n",
       "      <td>teacher</td>\n",
       "      <td>4.55</td>\n",
       "      <td>circle</td>\n",
       "      <td>3.67</td>\n",
       "    </tr>\n",
       "    <tr>\n",
       "      <th>6</th>\n",
       "      <td>monster|monster:monsters</td>\n",
       "      <td>4.58</td>\n",
       "      <td>doctor|doctor:doctor's|doctor:doctors</td>\n",
       "      <td>4.60</td>\n",
       "      <td>welcome</td>\n",
       "      <td>4.06</td>\n",
       "    </tr>\n",
       "    <tr>\n",
       "      <th>7</th>\n",
       "      <td>doctor|doctor:doctor's</td>\n",
       "      <td>4.60</td>\n",
       "      <td>garbage</td>\n",
       "      <td>4.89</td>\n",
       "      <td>stupid</td>\n",
       "      <td>4.40</td>\n",
       "    </tr>\n",
       "    <tr>\n",
       "      <th>8</th>\n",
       "      <td>napkin</td>\n",
       "      <td>4.79</td>\n",
       "      <td>girlfriend</td>\n",
       "      <td>6.26</td>\n",
       "      <td>grownup</td>\n",
       "      <td>4.43</td>\n",
       "    </tr>\n",
       "  </tbody>\n",
       "</table>\n",
       "</div>"
      ],
      "text/plain": [
       "                    3 words  3 aoa                                4 words  \\\n",
       "0                    sucker   0.00                                 mother   \n",
       "1              flour|flower   0.00                                 spider   \n",
       "2     carrot|carrot:carrots   2.74                               airplane   \n",
       "3                   welcome   4.06                                welcome   \n",
       "4              mellon|melon   4.21                                 stupid   \n",
       "5     ladder|ladder:ladders   4.40                                teacher   \n",
       "6  monster|monster:monsters   4.58  doctor|doctor:doctor's|doctor:doctors   \n",
       "7    doctor|doctor:doctor's   4.60                                garbage   \n",
       "8                    napkin   4.79                             girlfriend   \n",
       "\n",
       "   4 aoa                6 words  6 aoa  \n",
       "0   2.63                   hour   0.00  \n",
       "1   3.43  carrot|carrot:carrots   2.74  \n",
       "2   3.94                  puppy   3.28  \n",
       "3   4.06                 toilet   3.54  \n",
       "4   4.40                 kitten   3.64  \n",
       "5   4.55                 circle   3.67  \n",
       "6   4.60                welcome   4.06  \n",
       "7   4.89                 stupid   4.40  \n",
       "8   6.26                grownup   4.43  "
      ]
     },
     "execution_count": 31,
     "metadata": {},
     "output_type": "execute_result"
    }
   ],
   "source": [
    "cols = ['orthographic','age_of_acquisition']\n",
    "n=1.75\n",
    "num=10\n",
    "m3g = p3[cols][p3['zscore'] > n][p3['ismulti']]\n",
    "m4g = p4[cols][p4['zscore'] > n][p4['ismulti']]\n",
    "m6g = p6[cols][p6['zscore'] > n][p6['ismulti']]\n",
    "word_max = np.amin([num,len(m3g),len(m4g),len(m6g)],axis=0)\n",
    "s_m3g = m3g.sort_values(by=['age_of_acquisition'],ascending=True)[:word_max]\n",
    "s_m4g = m4g.sort_values(by=['age_of_acquisition'],ascending=True)[:word_max]\n",
    "s_m6g = m6g.sort_values(by=['age_of_acquisition'],ascending=True)[:word_max]\n",
    "\n",
    "d = {'3 words': s_m3g['orthographic'].values, '3 aoa': s_m3g['age_of_acquisition'].values,\n",
    "     '4 words': s_m4g['orthographic'].values, '4 aoa': s_m4g['age_of_acquisition'].values,\n",
    "     '6 words': s_m6g['orthographic'].values, '6 aoa': s_m6g['age_of_acquisition'].values,}\n",
    "\n",
    "df_multi_high = pd.DataFrame(data=d)\n",
    "df_multi_high\n"
   ]
  },
  {
   "cell_type": "markdown",
   "metadata": {},
   "source": [
    "### create the low PACT multisyllabic"
   ]
  },
  {
   "cell_type": "code",
   "execution_count": 32,
   "metadata": {},
   "outputs": [
    {
     "name": "stderr",
     "output_type": "stream",
     "text": [
      "/home/melissa/.local/lib/python3.7/site-packages/ipykernel_launcher.py:1: UserWarning: Boolean Series key will be reindexed to match DataFrame index.\n",
      "  \"\"\"Entry point for launching an IPython kernel.\n",
      "/home/melissa/.local/lib/python3.7/site-packages/ipykernel_launcher.py:2: UserWarning: Boolean Series key will be reindexed to match DataFrame index.\n",
      "  \n",
      "/home/melissa/.local/lib/python3.7/site-packages/ipykernel_launcher.py:3: UserWarning: Boolean Series key will be reindexed to match DataFrame index.\n",
      "  This is separate from the ipykernel package so we can avoid doing imports until\n"
     ]
    },
    {
     "data": {
      "text/html": [
       "<div>\n",
       "<style scoped>\n",
       "    .dataframe tbody tr th:only-of-type {\n",
       "        vertical-align: middle;\n",
       "    }\n",
       "\n",
       "    .dataframe tbody tr th {\n",
       "        vertical-align: top;\n",
       "    }\n",
       "\n",
       "    .dataframe thead th {\n",
       "        text-align: right;\n",
       "    }\n",
       "</style>\n",
       "<table border=\"1\" class=\"dataframe\">\n",
       "  <thead>\n",
       "    <tr style=\"text-align: right;\">\n",
       "      <th></th>\n",
       "      <th>3 words</th>\n",
       "      <th>3 aoa</th>\n",
       "      <th>4 words</th>\n",
       "      <th>4 aoa</th>\n",
       "      <th>6 words</th>\n",
       "      <th>6 aoa</th>\n",
       "    </tr>\n",
       "  </thead>\n",
       "  <tbody>\n",
       "    <tr>\n",
       "      <th>0</th>\n",
       "      <td>excavator</td>\n",
       "      <td>13.00</td>\n",
       "      <td>cappuccino</td>\n",
       "      <td>12.42</td>\n",
       "      <td>mignon</td>\n",
       "      <td>14.40</td>\n",
       "    </tr>\n",
       "    <tr>\n",
       "      <th>1</th>\n",
       "      <td>finesse</td>\n",
       "      <td>12.39</td>\n",
       "      <td>network</td>\n",
       "      <td>10.94</td>\n",
       "      <td>internet</td>\n",
       "      <td>12.33</td>\n",
       "    </tr>\n",
       "    <tr>\n",
       "      <th>2</th>\n",
       "      <td>tofu</td>\n",
       "      <td>11.89</td>\n",
       "      <td>incline</td>\n",
       "      <td>10.90</td>\n",
       "      <td>frisky</td>\n",
       "      <td>12.17</td>\n",
       "    </tr>\n",
       "    <tr>\n",
       "      <th>3</th>\n",
       "      <td>aerial</td>\n",
       "      <td>11.50</td>\n",
       "      <td>disposal</td>\n",
       "      <td>10.75</td>\n",
       "      <td>grimace</td>\n",
       "      <td>12.00</td>\n",
       "    </tr>\n",
       "    <tr>\n",
       "      <th>4</th>\n",
       "      <td>ebony</td>\n",
       "      <td>11.18</td>\n",
       "      <td>recycle:recycling</td>\n",
       "      <td>10.61</td>\n",
       "      <td>satellite</td>\n",
       "      <td>11.68</td>\n",
       "    </tr>\n",
       "    <tr>\n",
       "      <th>5</th>\n",
       "      <td>mackerel</td>\n",
       "      <td>10.72</td>\n",
       "      <td>beeper</td>\n",
       "      <td>10.61</td>\n",
       "      <td>pesticide</td>\n",
       "      <td>11.63</td>\n",
       "    </tr>\n",
       "    <tr>\n",
       "      <th>6</th>\n",
       "      <td>sterling</td>\n",
       "      <td>10.70</td>\n",
       "      <td>furnace</td>\n",
       "      <td>10.60</td>\n",
       "      <td>gusto</td>\n",
       "      <td>11.53</td>\n",
       "    </tr>\n",
       "    <tr>\n",
       "      <th>7</th>\n",
       "      <td>sexy</td>\n",
       "      <td>10.65</td>\n",
       "      <td>appendix</td>\n",
       "      <td>10.56</td>\n",
       "      <td>mangle:mangled</td>\n",
       "      <td>11.29</td>\n",
       "    </tr>\n",
       "    <tr>\n",
       "      <th>8</th>\n",
       "      <td>scuttle</td>\n",
       "      <td>10.58</td>\n",
       "      <td>micro</td>\n",
       "      <td>10.44</td>\n",
       "      <td>changer</td>\n",
       "      <td>11.20</td>\n",
       "    </tr>\n",
       "    <tr>\n",
       "      <th>9</th>\n",
       "      <td>poppy</td>\n",
       "      <td>10.37</td>\n",
       "      <td>poppy</td>\n",
       "      <td>10.37</td>\n",
       "      <td>administration</td>\n",
       "      <td>11.11</td>\n",
       "    </tr>\n",
       "  </tbody>\n",
       "</table>\n",
       "</div>"
      ],
      "text/plain": [
       "     3 words  3 aoa            4 words  4 aoa         6 words  6 aoa\n",
       "0  excavator  13.00         cappuccino  12.42          mignon  14.40\n",
       "1    finesse  12.39            network  10.94        internet  12.33\n",
       "2       tofu  11.89            incline  10.90          frisky  12.17\n",
       "3     aerial  11.50           disposal  10.75         grimace  12.00\n",
       "4      ebony  11.18  recycle:recycling  10.61       satellite  11.68\n",
       "5   mackerel  10.72             beeper  10.61       pesticide  11.63\n",
       "6   sterling  10.70            furnace  10.60           gusto  11.53\n",
       "7       sexy  10.65           appendix  10.56  mangle:mangled  11.29\n",
       "8    scuttle  10.58              micro  10.44         changer  11.20\n",
       "9      poppy  10.37              poppy  10.37  administration  11.11"
      ]
     },
     "execution_count": 32,
     "metadata": {},
     "output_type": "execute_result"
    }
   ],
   "source": [
    "m3g = p3[cols][p3['zscore'] < n][p3['ismulti']]\n",
    "m4g = p4[cols][p4['zscore'] < n][p4['ismulti']]\n",
    "m6g = p6[cols][p6['zscore'] < n][p6['ismulti']]\n",
    "word_max = np.amin([num,len(m3g),len(m4g),len(m6g)],axis=0)\n",
    "s_m3g = m3g.sort_values(by=['age_of_acquisition'],ascending=False)[:word_max]\n",
    "s_m4g = m4g.sort_values(by=['age_of_acquisition'],ascending=False)[:word_max]\n",
    "s_m6g = m6g.sort_values(by=['age_of_acquisition'],ascending=False)[:word_max]\n",
    "\n",
    "d = {'3 words': s_m3g['orthographic'].values, '3 aoa': s_m3g['age_of_acquisition'].values,\n",
    "     '4 words': s_m4g['orthographic'].values, '4 aoa': s_m4g['age_of_acquisition'].values,\n",
    "     '6 words': s_m6g['orthographic'].values, '6 aoa': s_m6g['age_of_acquisition'].values,}\n",
    "\n",
    "df_multi_low = pd.DataFrame(data=d)\n",
    "df_multi_low\n"
   ]
  },
  {
   "cell_type": "markdown",
   "metadata": {},
   "source": [
    "### Create High PACT CVC"
   ]
  },
  {
   "cell_type": "code",
   "execution_count": 33,
   "metadata": {},
   "outputs": [
    {
     "name": "stderr",
     "output_type": "stream",
     "text": [
      "/home/melissa/.local/lib/python3.7/site-packages/ipykernel_launcher.py:1: UserWarning: Boolean Series key will be reindexed to match DataFrame index.\n",
      "  \"\"\"Entry point for launching an IPython kernel.\n",
      "/home/melissa/.local/lib/python3.7/site-packages/ipykernel_launcher.py:2: UserWarning: Boolean Series key will be reindexed to match DataFrame index.\n",
      "  \n",
      "/home/melissa/.local/lib/python3.7/site-packages/ipykernel_launcher.py:3: UserWarning: Boolean Series key will be reindexed to match DataFrame index.\n",
      "  This is separate from the ipykernel package so we can avoid doing imports until\n"
     ]
    },
    {
     "data": {
      "text/html": [
       "<div>\n",
       "<style scoped>\n",
       "    .dataframe tbody tr th:only-of-type {\n",
       "        vertical-align: middle;\n",
       "    }\n",
       "\n",
       "    .dataframe tbody tr th {\n",
       "        vertical-align: top;\n",
       "    }\n",
       "\n",
       "    .dataframe thead th {\n",
       "        text-align: right;\n",
       "    }\n",
       "</style>\n",
       "<table border=\"1\" class=\"dataframe\">\n",
       "  <thead>\n",
       "    <tr style=\"text-align: right;\">\n",
       "      <th></th>\n",
       "      <th>3 words</th>\n",
       "      <th>3 aoa</th>\n",
       "      <th>4 words</th>\n",
       "      <th>4 aoa</th>\n",
       "      <th>6 words</th>\n",
       "      <th>6 aoa</th>\n",
       "    </tr>\n",
       "  </thead>\n",
       "  <tbody>\n",
       "    <tr>\n",
       "      <th>0</th>\n",
       "      <td>duck</td>\n",
       "      <td>3.50</td>\n",
       "      <td>rain|rain:raining</td>\n",
       "      <td>0.00</td>\n",
       "      <td>butt</td>\n",
       "      <td>0.00</td>\n",
       "    </tr>\n",
       "    <tr>\n",
       "      <th>1</th>\n",
       "      <td>pig</td>\n",
       "      <td>3.84</td>\n",
       "      <td>wood|wood:woods</td>\n",
       "      <td>0.00</td>\n",
       "      <td>bell</td>\n",
       "      <td>0.00</td>\n",
       "    </tr>\n",
       "    <tr>\n",
       "      <th>2</th>\n",
       "      <td>poop</td>\n",
       "      <td>4.00</td>\n",
       "      <td>walk|walk:walking|walk:walks</td>\n",
       "      <td>3.45</td>\n",
       "      <td>mat</td>\n",
       "      <td>0.00</td>\n",
       "    </tr>\n",
       "    <tr>\n",
       "      <th>3</th>\n",
       "      <td>ham</td>\n",
       "      <td>4.10</td>\n",
       "      <td>laugh</td>\n",
       "      <td>3.79</td>\n",
       "      <td>shoot</td>\n",
       "      <td>0.00</td>\n",
       "    </tr>\n",
       "    <tr>\n",
       "      <th>4</th>\n",
       "      <td>peach</td>\n",
       "      <td>4.21</td>\n",
       "      <td>poop|poop:pooped</td>\n",
       "      <td>4.00</td>\n",
       "      <td>coat</td>\n",
       "      <td>3.58</td>\n",
       "    </tr>\n",
       "    <tr>\n",
       "      <th>5</th>\n",
       "      <td>seat</td>\n",
       "      <td>4.58</td>\n",
       "      <td>peach|peach:peaches</td>\n",
       "      <td>4.21</td>\n",
       "      <td>dig</td>\n",
       "      <td>4.19</td>\n",
       "    </tr>\n",
       "    <tr>\n",
       "      <th>6</th>\n",
       "      <td>fall|fall:falling</td>\n",
       "      <td>4.71</td>\n",
       "      <td>bowl</td>\n",
       "      <td>4.26</td>\n",
       "      <td>peach</td>\n",
       "      <td>4.21</td>\n",
       "    </tr>\n",
       "    <tr>\n",
       "      <th>7</th>\n",
       "      <td>hop</td>\n",
       "      <td>4.84</td>\n",
       "      <td>kid|kid:kids</td>\n",
       "      <td>4.28</td>\n",
       "      <td>bowl</td>\n",
       "      <td>4.26</td>\n",
       "    </tr>\n",
       "    <tr>\n",
       "      <th>8</th>\n",
       "      <td>cop|cop:cops</td>\n",
       "      <td>4.94</td>\n",
       "      <td>dumb</td>\n",
       "      <td>4.50</td>\n",
       "      <td>dumb</td>\n",
       "      <td>4.50</td>\n",
       "    </tr>\n",
       "    <tr>\n",
       "      <th>9</th>\n",
       "      <td>hate</td>\n",
       "      <td>5.53</td>\n",
       "      <td>hop</td>\n",
       "      <td>4.84</td>\n",
       "      <td>hop</td>\n",
       "      <td>4.84</td>\n",
       "    </tr>\n",
       "  </tbody>\n",
       "</table>\n",
       "</div>"
      ],
      "text/plain": [
       "             3 words  3 aoa                       4 words  4 aoa 6 words  \\\n",
       "0               duck   3.50             rain|rain:raining   0.00    butt   \n",
       "1                pig   3.84               wood|wood:woods   0.00    bell   \n",
       "2               poop   4.00  walk|walk:walking|walk:walks   3.45     mat   \n",
       "3                ham   4.10                         laugh   3.79   shoot   \n",
       "4              peach   4.21              poop|poop:pooped   4.00    coat   \n",
       "5               seat   4.58           peach|peach:peaches   4.21     dig   \n",
       "6  fall|fall:falling   4.71                          bowl   4.26   peach   \n",
       "7                hop   4.84                  kid|kid:kids   4.28    bowl   \n",
       "8       cop|cop:cops   4.94                          dumb   4.50    dumb   \n",
       "9               hate   5.53                           hop   4.84     hop   \n",
       "\n",
       "   6 aoa  \n",
       "0   0.00  \n",
       "1   0.00  \n",
       "2   0.00  \n",
       "3   0.00  \n",
       "4   3.58  \n",
       "5   4.19  \n",
       "6   4.21  \n",
       "7   4.26  \n",
       "8   4.50  \n",
       "9   4.84  "
      ]
     },
     "execution_count": 33,
     "metadata": {},
     "output_type": "execute_result"
    }
   ],
   "source": [
    "m3g = p3[cols][p3['zscore'] > n][p3['iscvc']]\n",
    "m4g = p4[cols][p4['zscore'] > n][p4['iscvc']]\n",
    "m6g = p6[cols][p6['zscore'] > n][p6['iscvc']]\n",
    "word_max = np.amin([num,len(m3g),len(m4g),len(m6g)],axis=0)\n",
    "s_m3g = m3g.sort_values(by=['age_of_acquisition'],ascending=True)[:word_max]\n",
    "s_m4g = m4g.sort_values(by=['age_of_acquisition'],ascending=True)[:word_max]\n",
    "s_m6g = m6g.sort_values(by=['age_of_acquisition'],ascending=True)[:word_max]\n",
    "\n",
    "d = {'3 words': s_m3g['orthographic'].values, '3 aoa': s_m3g['age_of_acquisition'].values,\n",
    "     '4 words': s_m4g['orthographic'].values, '4 aoa': s_m4g['age_of_acquisition'].values,\n",
    "     '6 words': s_m6g['orthographic'].values, '6 aoa': s_m6g['age_of_acquisition'].values,}\n",
    "\n",
    "df_cvc_high = pd.DataFrame(data=d)\n",
    "df_cvc_high\n"
   ]
  },
  {
   "cell_type": "markdown",
   "metadata": {},
   "source": [
    "### create the low PACT CVC"
   ]
  },
  {
   "cell_type": "code",
   "execution_count": 34,
   "metadata": {},
   "outputs": [
    {
     "name": "stderr",
     "output_type": "stream",
     "text": [
      "/home/melissa/.local/lib/python3.7/site-packages/ipykernel_launcher.py:1: UserWarning: Boolean Series key will be reindexed to match DataFrame index.\n",
      "  \"\"\"Entry point for launching an IPython kernel.\n",
      "/home/melissa/.local/lib/python3.7/site-packages/ipykernel_launcher.py:2: UserWarning: Boolean Series key will be reindexed to match DataFrame index.\n",
      "  \n",
      "/home/melissa/.local/lib/python3.7/site-packages/ipykernel_launcher.py:3: UserWarning: Boolean Series key will be reindexed to match DataFrame index.\n",
      "  This is separate from the ipykernel package so we can avoid doing imports until\n"
     ]
    },
    {
     "data": {
      "text/html": [
       "<div>\n",
       "<style scoped>\n",
       "    .dataframe tbody tr th:only-of-type {\n",
       "        vertical-align: middle;\n",
       "    }\n",
       "\n",
       "    .dataframe tbody tr th {\n",
       "        vertical-align: top;\n",
       "    }\n",
       "\n",
       "    .dataframe thead th {\n",
       "        text-align: right;\n",
       "    }\n",
       "</style>\n",
       "<table border=\"1\" class=\"dataframe\">\n",
       "  <thead>\n",
       "    <tr style=\"text-align: right;\">\n",
       "      <th></th>\n",
       "      <th>3 words</th>\n",
       "      <th>3 aoa</th>\n",
       "      <th>4 words</th>\n",
       "      <th>4 aoa</th>\n",
       "      <th>6 words</th>\n",
       "      <th>6 aoa</th>\n",
       "    </tr>\n",
       "  </thead>\n",
       "  <tbody>\n",
       "    <tr>\n",
       "      <th>0</th>\n",
       "      <td>nerve:nerves</td>\n",
       "      <td>9.67</td>\n",
       "      <td>nerve|nerve:nerves</td>\n",
       "      <td>9.67</td>\n",
       "      <td>pike</td>\n",
       "      <td>12.06</td>\n",
       "    </tr>\n",
       "    <tr>\n",
       "      <th>1</th>\n",
       "      <td>din</td>\n",
       "      <td>9.00</td>\n",
       "      <td>nag</td>\n",
       "      <td>9.21</td>\n",
       "      <td>nerve:nerves</td>\n",
       "      <td>9.67</td>\n",
       "    </tr>\n",
       "    <tr>\n",
       "      <th>2</th>\n",
       "      <td>fawn</td>\n",
       "      <td>8.40</td>\n",
       "      <td>dine:dining</td>\n",
       "      <td>8.95</td>\n",
       "      <td>tab</td>\n",
       "      <td>9.33</td>\n",
       "    </tr>\n",
       "    <tr>\n",
       "      <th>3</th>\n",
       "      <td>peep</td>\n",
       "      <td>8.22</td>\n",
       "      <td>pad</td>\n",
       "      <td>8.83</td>\n",
       "      <td>dine:dining</td>\n",
       "      <td>8.95</td>\n",
       "    </tr>\n",
       "    <tr>\n",
       "      <th>4</th>\n",
       "      <td>bum</td>\n",
       "      <td>8.11</td>\n",
       "      <td>pep</td>\n",
       "      <td>8.75</td>\n",
       "      <td>doubt</td>\n",
       "      <td>8.79</td>\n",
       "    </tr>\n",
       "    <tr>\n",
       "      <th>5</th>\n",
       "      <td>hut</td>\n",
       "      <td>8.10</td>\n",
       "      <td>league</td>\n",
       "      <td>8.45</td>\n",
       "      <td>pep</td>\n",
       "      <td>8.75</td>\n",
       "    </tr>\n",
       "    <tr>\n",
       "      <th>6</th>\n",
       "      <td>fig</td>\n",
       "      <td>8.06</td>\n",
       "      <td>chef</td>\n",
       "      <td>8.30</td>\n",
       "      <td>jig</td>\n",
       "      <td>8.70</td>\n",
       "    </tr>\n",
       "    <tr>\n",
       "      <th>7</th>\n",
       "      <td>buck</td>\n",
       "      <td>7.68</td>\n",
       "      <td>bum</td>\n",
       "      <td>8.11</td>\n",
       "      <td>chef</td>\n",
       "      <td>8.30</td>\n",
       "    </tr>\n",
       "    <tr>\n",
       "      <th>8</th>\n",
       "      <td>wreck|wreck:wrecked</td>\n",
       "      <td>7.59</td>\n",
       "      <td>hut</td>\n",
       "      <td>8.10</td>\n",
       "      <td>dill</td>\n",
       "      <td>8.20</td>\n",
       "    </tr>\n",
       "    <tr>\n",
       "      <th>9</th>\n",
       "      <td>fool</td>\n",
       "      <td>7.56</td>\n",
       "      <td>rail:railing</td>\n",
       "      <td>7.89</td>\n",
       "      <td>hut</td>\n",
       "      <td>8.10</td>\n",
       "    </tr>\n",
       "  </tbody>\n",
       "</table>\n",
       "</div>"
      ],
      "text/plain": [
       "               3 words  3 aoa             4 words  4 aoa       6 words  6 aoa\n",
       "0         nerve:nerves   9.67  nerve|nerve:nerves   9.67          pike  12.06\n",
       "1                  din   9.00                 nag   9.21  nerve:nerves   9.67\n",
       "2                 fawn   8.40         dine:dining   8.95           tab   9.33\n",
       "3                 peep   8.22                 pad   8.83   dine:dining   8.95\n",
       "4                  bum   8.11                 pep   8.75         doubt   8.79\n",
       "5                  hut   8.10              league   8.45           pep   8.75\n",
       "6                  fig   8.06                chef   8.30           jig   8.70\n",
       "7                 buck   7.68                 bum   8.11          chef   8.30\n",
       "8  wreck|wreck:wrecked   7.59                 hut   8.10          dill   8.20\n",
       "9                 fool   7.56        rail:railing   7.89           hut   8.10"
      ]
     },
     "execution_count": 34,
     "metadata": {},
     "output_type": "execute_result"
    }
   ],
   "source": [
    "m3g = p3[cols][p3['zscore'] < n][p3['iscvc']]\n",
    "m4g = p4[cols][p4['zscore'] < n][p4['iscvc']]\n",
    "m6g = p6[cols][p6['zscore'] < n][p6['iscvc']]\n",
    "word_max = np.amin([num,len(m3g),len(m4g),len(m6g)],axis=0)\n",
    "s_m3g = m3g.sort_values(by=['age_of_acquisition'],ascending=False)[:word_max]\n",
    "s_m4g = m4g.sort_values(by=['age_of_acquisition'],ascending=False)[:word_max]\n",
    "s_m6g = m6g.sort_values(by=['age_of_acquisition'],ascending=False)[:word_max]\n",
    "\n",
    "d = {'3 words': s_m3g['orthographic'].values, '3 aoa': s_m3g['age_of_acquisition'].values,\n",
    "     '4 words': s_m4g['orthographic'].values, '4 aoa': s_m4g['age_of_acquisition'].values,\n",
    "     '6 words': s_m6g['orthographic'].values, '6 aoa': s_m6g['age_of_acquisition'].values,}\n",
    "\n",
    "df_cvc_low = pd.DataFrame(data=d)\n",
    "df_cvc_low\n"
   ]
  },
  {
   "cell_type": "markdown",
   "metadata": {},
   "source": [
    "### Combine all examples into one dataframe, export to csv"
   ]
  },
  {
   "cell_type": "code",
   "execution_count": 37,
   "metadata": {},
   "outputs": [],
   "source": [
    "all_example = pd.concat([df_cvc_low, df_cvc_high, df_multi_low, df_multi_high])\n",
    "all_example.to_csv(outdir/\"PACT_examples.csv\")"
   ]
  },
  {
   "cell_type": "markdown",
   "metadata": {},
   "source": [
    "# Table 3"
   ]
  },
  {
   "cell_type": "markdown",
   "metadata": {},
   "source": [
    "Caption: PACT values (and Standard Deviation) for different subsets of words. "
   ]
  },
  {
   "cell_type": "code",
   "execution_count": 38,
   "metadata": {},
   "outputs": [],
   "source": [
    "i3 = set(list(data3.index.values))\n",
    "i4 = set(list(data4.index.values))\n",
    "i6 = set(list(data6.index.values))\n",
    "alli = i3 | i4 | i6"
   ]
  },
  {
   "cell_type": "code",
   "execution_count": 47,
   "metadata": {},
   "outputs": [],
   "source": [
    "# ALL PACT\n",
    "pact = pd.DataFrame(columns=['Three','Four','Six'],index=alli)\n",
    "pact['Three'] = data3['PACT']\n",
    "pact['Four'] = data4['PACT']\n",
    "pact['Six'] = data6['PACT']"
   ]
  },
  {
   "cell_type": "code",
   "execution_count": 48,
   "metadata": {},
   "outputs": [
    {
     "data": {
      "text/plain": [
       "(Three   -0.0\n",
       " Four    -0.0\n",
       " Six     -0.0\n",
       " dtype: float64,\n",
       " Three    0.68\n",
       " Four     0.65\n",
       " Six      0.67\n",
       " dtype: float64)"
      ]
     },
     "execution_count": 48,
     "metadata": {},
     "output_type": "execute_result"
    }
   ],
   "source": [
    "pact.mean().round(3),pact.std().round(2)"
   ]
  },
  {
   "cell_type": "code",
   "execution_count": 49,
   "metadata": {},
   "outputs": [],
   "source": [
    "# CVC PACT\n",
    "pact_cvc = pd.DataFrame(columns=['Three','Four','Six'],index=alli)\n",
    "pact_cvc['Three'] = data3['PACT'][data3.iscvc]\n",
    "pact_cvc['Four'] = data4['PACT'][data4.iscvc]\n",
    "pact_cvc['Six'] = data6['PACT'][data6.iscvc]"
   ]
  },
  {
   "cell_type": "code",
   "execution_count": 51,
   "metadata": {},
   "outputs": [
    {
     "data": {
      "text/plain": [
       "(Three    0.10\n",
       " Four     0.04\n",
       " Six      0.08\n",
       " dtype: float64,\n",
       " Three    0.68\n",
       " Four     0.70\n",
       " Six      0.68\n",
       " dtype: float64)"
      ]
     },
     "execution_count": 51,
     "metadata": {},
     "output_type": "execute_result"
    }
   ],
   "source": [
    "pact_cvc.mean().round(2), pact_cvc.std().round(2)"
   ]
  },
  {
   "cell_type": "code",
   "execution_count": 52,
   "metadata": {},
   "outputs": [],
   "source": [
    "# MULTISYLLABIC PACT\n",
    "pact_multi = pd.DataFrame(columns=['Three','Four','Six'],index=alli)\n",
    "pact_multi['Three'] = data3['PACT'][data3.ismulti]\n",
    "pact_multi['Four'] = data4['PACT'][data4.ismulti]\n",
    "pact_multi['Six'] = data6['PACT'][data6.ismulti]"
   ]
  },
  {
   "cell_type": "code",
   "execution_count": 53,
   "metadata": {},
   "outputs": [
    {
     "data": {
      "text/plain": [
       "(Three   -0.06\n",
       " Four    -0.05\n",
       " Six     -0.07\n",
       " dtype: float64,\n",
       " Three    0.68\n",
       " Four     0.61\n",
       " Six      0.67\n",
       " dtype: float64)"
      ]
     },
     "execution_count": 53,
     "metadata": {},
     "output_type": "execute_result"
    }
   ],
   "source": [
    "pact_multi.mean().round(2),pact_multi.std().round(2)"
   ]
  },
  {
   "cell_type": "code",
   "execution_count": null,
   "metadata": {},
   "outputs": [],
   "source": []
  }
 ],
 "metadata": {
  "kernelspec": {
   "display_name": "Python 3",
   "language": "python",
   "name": "python3"
  },
  "language_info": {
   "codemirror_mode": {
    "name": "ipython",
    "version": 3
   },
   "file_extension": ".py",
   "mimetype": "text/x-python",
   "name": "python",
   "nbconvert_exporter": "python",
   "pygments_lexer": "ipython3",
   "version": "3.7.7"
  },
  "nbpresent": {
   "slides": {},
   "themes": {
    "default": "5928b31a-d64c-46d1-8c7a-6c6d373926b5",
    "theme": {
     "5928b31a-d64c-46d1-8c7a-6c6d373926b5": {
      "backgrounds": {
       "dc7afa04-bf90-40b1-82a5-726e3cff5267": {
        "background-color": "31af15d2-7e15-44c5-ab5e-e04b16a89eff",
        "id": "dc7afa04-bf90-40b1-82a5-726e3cff5267"
       }
      },
      "id": "5928b31a-d64c-46d1-8c7a-6c6d373926b5",
      "palette": {
       "19cc588f-0593-49c9-9f4b-e4d7cc113b1c": {
        "id": "19cc588f-0593-49c9-9f4b-e4d7cc113b1c",
        "rgb": [
         252,
         252,
         252
        ]
       },
       "31af15d2-7e15-44c5-ab5e-e04b16a89eff": {
        "id": "31af15d2-7e15-44c5-ab5e-e04b16a89eff",
        "rgb": [
         68,
         68,
         68
        ]
       },
       "50f92c45-a630-455b-aec3-788680ec7410": {
        "id": "50f92c45-a630-455b-aec3-788680ec7410",
        "rgb": [
         197,
         226,
         245
        ]
       },
       "c5cc3653-2ee1-402a-aba2-7caae1da4f6c": {
        "id": "c5cc3653-2ee1-402a-aba2-7caae1da4f6c",
        "rgb": [
         43,
         126,
         184
        ]
       },
       "efa7f048-9acb-414c-8b04-a26811511a21": {
        "id": "efa7f048-9acb-414c-8b04-a26811511a21",
        "rgb": [
         25.118061674008803,
         73.60176211453744,
         107.4819383259912
        ]
       }
      },
      "rules": {
       "a": {
        "color": "19cc588f-0593-49c9-9f4b-e4d7cc113b1c"
       },
       "blockquote": {
        "color": "50f92c45-a630-455b-aec3-788680ec7410",
        "font-size": 3
       },
       "code": {
        "font-family": "Anonymous Pro"
       },
       "h1": {
        "color": "19cc588f-0593-49c9-9f4b-e4d7cc113b1c",
        "font-family": "Merriweather",
        "font-size": 8
       },
       "h2": {
        "color": "19cc588f-0593-49c9-9f4b-e4d7cc113b1c",
        "font-family": "Merriweather",
        "font-size": 6
       },
       "h3": {
        "color": "50f92c45-a630-455b-aec3-788680ec7410",
        "font-family": "Lato",
        "font-size": 5.5
       },
       "h4": {
        "color": "c5cc3653-2ee1-402a-aba2-7caae1da4f6c",
        "font-family": "Lato",
        "font-size": 5
       },
       "h5": {
        "font-family": "Lato"
       },
       "h6": {
        "font-family": "Lato"
       },
       "h7": {
        "font-family": "Lato"
       },
       "li": {
        "color": "50f92c45-a630-455b-aec3-788680ec7410",
        "font-size": 3.25
       },
       "pre": {
        "font-family": "Anonymous Pro",
        "font-size": 4
       }
      },
      "text-base": {
       "color": "19cc588f-0593-49c9-9f4b-e4d7cc113b1c",
       "font-family": "Lato",
       "font-size": 4
      }
     }
    }
   }
  }
 },
 "nbformat": 4,
 "nbformat_minor": 2
}
